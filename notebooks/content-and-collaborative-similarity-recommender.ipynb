{
 "cells": [
  {
   "cell_type": "code",
   "execution_count": 19,
   "metadata": {},
   "outputs": [
    {
     "data": {
      "text/html": [
       "<style>.container { width:80% !important; }</style>"
      ],
      "text/plain": [
       "<IPython.core.display.HTML object>"
      ]
     },
     "metadata": {},
     "output_type": "display_data"
    }
   ],
   "source": [
    "import numpy as np\n",
    "import pandas as pd\n",
    "import os\n",
    "import sys\n",
    "import pickle\n",
    "import time\n",
    "import datetime\n",
    "import matplotlib.pyplot as plt\n",
    "import seaborn as sns\n",
    "from importlib import reload\n",
    "%matplotlib inline\n",
    "from IPython.core.display import display, HTML, clear_output\n",
    "display(HTML(\"<style>.container { width:80% !important; }</style>\")) "
   ]
  },
  {
   "cell_type": "markdown",
   "metadata": {},
   "source": [
    "# Load Content Embeddings"
   ]
  },
  {
   "cell_type": "code",
   "execution_count": 20,
   "metadata": {},
   "outputs": [
    {
     "name": "stdout",
     "output_type": "stream",
     "text": [
      "(26744, 100)\n"
     ]
    },
    {
     "data": {
      "text/html": [
       "<div>\n",
       "<style scoped>\n",
       "    .dataframe tbody tr th:only-of-type {\n",
       "        vertical-align: middle;\n",
       "    }\n",
       "\n",
       "    .dataframe tbody tr th {\n",
       "        vertical-align: top;\n",
       "    }\n",
       "\n",
       "    .dataframe thead th {\n",
       "        text-align: right;\n",
       "    }\n",
       "</style>\n",
       "<table border=\"1\" class=\"dataframe\">\n",
       "  <thead>\n",
       "    <tr style=\"text-align: right;\">\n",
       "      <th></th>\n",
       "      <th>0</th>\n",
       "      <th>1</th>\n",
       "      <th>2</th>\n",
       "      <th>3</th>\n",
       "      <th>4</th>\n",
       "      <th>5</th>\n",
       "      <th>6</th>\n",
       "      <th>7</th>\n",
       "      <th>8</th>\n",
       "      <th>9</th>\n",
       "      <th>...</th>\n",
       "      <th>90</th>\n",
       "      <th>91</th>\n",
       "      <th>92</th>\n",
       "      <th>93</th>\n",
       "      <th>94</th>\n",
       "      <th>95</th>\n",
       "      <th>96</th>\n",
       "      <th>97</th>\n",
       "      <th>98</th>\n",
       "      <th>99</th>\n",
       "    </tr>\n",
       "  </thead>\n",
       "  <tbody>\n",
       "    <tr>\n",
       "      <th>0</th>\n",
       "      <td>0.013344</td>\n",
       "      <td>0.239560</td>\n",
       "      <td>1.050268</td>\n",
       "      <td>0.000000</td>\n",
       "      <td>0.023284</td>\n",
       "      <td>0.396033</td>\n",
       "      <td>0.000000</td>\n",
       "      <td>0.692792</td>\n",
       "      <td>0.000000</td>\n",
       "      <td>0.000000</td>\n",
       "      <td>...</td>\n",
       "      <td>0.002741</td>\n",
       "      <td>0.000000</td>\n",
       "      <td>0.265989</td>\n",
       "      <td>0.372963</td>\n",
       "      <td>0.000000</td>\n",
       "      <td>0.0</td>\n",
       "      <td>0.0</td>\n",
       "      <td>0.711748</td>\n",
       "      <td>0.000000</td>\n",
       "      <td>0.379516</td>\n",
       "    </tr>\n",
       "    <tr>\n",
       "      <th>1</th>\n",
       "      <td>0.000000</td>\n",
       "      <td>0.172851</td>\n",
       "      <td>1.251562</td>\n",
       "      <td>0.471290</td>\n",
       "      <td>0.065289</td>\n",
       "      <td>0.398064</td>\n",
       "      <td>0.007400</td>\n",
       "      <td>1.077674</td>\n",
       "      <td>0.143710</td>\n",
       "      <td>0.000000</td>\n",
       "      <td>...</td>\n",
       "      <td>0.000000</td>\n",
       "      <td>0.040959</td>\n",
       "      <td>0.075530</td>\n",
       "      <td>0.000000</td>\n",
       "      <td>0.000000</td>\n",
       "      <td>0.0</td>\n",
       "      <td>0.0</td>\n",
       "      <td>0.555058</td>\n",
       "      <td>0.397117</td>\n",
       "      <td>0.333755</td>\n",
       "    </tr>\n",
       "    <tr>\n",
       "      <th>2</th>\n",
       "      <td>0.001010</td>\n",
       "      <td>0.925408</td>\n",
       "      <td>0.063987</td>\n",
       "      <td>0.000000</td>\n",
       "      <td>0.133182</td>\n",
       "      <td>0.030352</td>\n",
       "      <td>0.104917</td>\n",
       "      <td>0.622351</td>\n",
       "      <td>0.045847</td>\n",
       "      <td>0.000000</td>\n",
       "      <td>...</td>\n",
       "      <td>0.000000</td>\n",
       "      <td>0.242329</td>\n",
       "      <td>0.000000</td>\n",
       "      <td>0.422629</td>\n",
       "      <td>0.000000</td>\n",
       "      <td>0.0</td>\n",
       "      <td>0.0</td>\n",
       "      <td>0.494329</td>\n",
       "      <td>0.182441</td>\n",
       "      <td>0.093916</td>\n",
       "    </tr>\n",
       "    <tr>\n",
       "      <th>3</th>\n",
       "      <td>0.000000</td>\n",
       "      <td>0.944240</td>\n",
       "      <td>0.607588</td>\n",
       "      <td>0.368766</td>\n",
       "      <td>0.166914</td>\n",
       "      <td>0.000000</td>\n",
       "      <td>0.226098</td>\n",
       "      <td>0.000000</td>\n",
       "      <td>0.481809</td>\n",
       "      <td>0.000000</td>\n",
       "      <td>...</td>\n",
       "      <td>0.000000</td>\n",
       "      <td>0.000000</td>\n",
       "      <td>0.124727</td>\n",
       "      <td>0.465437</td>\n",
       "      <td>0.014911</td>\n",
       "      <td>0.0</td>\n",
       "      <td>0.0</td>\n",
       "      <td>0.605971</td>\n",
       "      <td>0.806610</td>\n",
       "      <td>0.387506</td>\n",
       "    </tr>\n",
       "    <tr>\n",
       "      <th>4</th>\n",
       "      <td>0.000000</td>\n",
       "      <td>0.734243</td>\n",
       "      <td>0.627565</td>\n",
       "      <td>0.150901</td>\n",
       "      <td>0.304607</td>\n",
       "      <td>0.236698</td>\n",
       "      <td>0.051425</td>\n",
       "      <td>0.408785</td>\n",
       "      <td>0.367336</td>\n",
       "      <td>0.586794</td>\n",
       "      <td>...</td>\n",
       "      <td>0.000000</td>\n",
       "      <td>0.000000</td>\n",
       "      <td>0.083080</td>\n",
       "      <td>0.182237</td>\n",
       "      <td>0.000000</td>\n",
       "      <td>0.0</td>\n",
       "      <td>0.0</td>\n",
       "      <td>0.080750</td>\n",
       "      <td>0.826122</td>\n",
       "      <td>0.542480</td>\n",
       "    </tr>\n",
       "  </tbody>\n",
       "</table>\n",
       "<p>5 rows × 100 columns</p>\n",
       "</div>"
      ],
      "text/plain": [
       "         0         1         2         3         4         5         6   \\\n",
       "0  0.013344  0.239560  1.050268  0.000000  0.023284  0.396033  0.000000   \n",
       "1  0.000000  0.172851  1.251562  0.471290  0.065289  0.398064  0.007400   \n",
       "2  0.001010  0.925408  0.063987  0.000000  0.133182  0.030352  0.104917   \n",
       "3  0.000000  0.944240  0.607588  0.368766  0.166914  0.000000  0.226098   \n",
       "4  0.000000  0.734243  0.627565  0.150901  0.304607  0.236698  0.051425   \n",
       "\n",
       "         7         8         9     ...           90        91        92  \\\n",
       "0  0.692792  0.000000  0.000000    ...     0.002741  0.000000  0.265989   \n",
       "1  1.077674  0.143710  0.000000    ...     0.000000  0.040959  0.075530   \n",
       "2  0.622351  0.045847  0.000000    ...     0.000000  0.242329  0.000000   \n",
       "3  0.000000  0.481809  0.000000    ...     0.000000  0.000000  0.124727   \n",
       "4  0.408785  0.367336  0.586794    ...     0.000000  0.000000  0.083080   \n",
       "\n",
       "         93        94   95   96        97        98        99  \n",
       "0  0.372963  0.000000  0.0  0.0  0.711748  0.000000  0.379516  \n",
       "1  0.000000  0.000000  0.0  0.0  0.555058  0.397117  0.333755  \n",
       "2  0.422629  0.000000  0.0  0.0  0.494329  0.182441  0.093916  \n",
       "3  0.465437  0.014911  0.0  0.0  0.605971  0.806610  0.387506  \n",
       "4  0.182237  0.000000  0.0  0.0  0.080750  0.826122  0.542480  \n",
       "\n",
       "[5 rows x 100 columns]"
      ]
     },
     "execution_count": 20,
     "metadata": {},
     "output_type": "execute_result"
    }
   ],
   "source": [
    "cwd = os.getcwd()\n",
    "content_embeddings = pd.read_pickle(os.path.join(cwd, \"..\", \"data\", \"autoencoder_embeddings.pkl\"))\n",
    "content_embeddings = pd.DataFrame(content_embeddings)\n",
    "print(content_embeddings.shape)\n",
    "content_embeddings.head()"
   ]
  },
  {
   "cell_type": "markdown",
   "metadata": {},
   "source": [
    "# Load Collaborative Embeddings"
   ]
  },
  {
   "cell_type": "code",
   "execution_count": 21,
   "metadata": {},
   "outputs": [
    {
     "name": "stdout",
     "output_type": "stream",
     "text": [
      "(26744, 100)\n"
     ]
    },
    {
     "data": {
      "text/html": [
       "<div>\n",
       "<style scoped>\n",
       "    .dataframe tbody tr th:only-of-type {\n",
       "        vertical-align: middle;\n",
       "    }\n",
       "\n",
       "    .dataframe tbody tr th {\n",
       "        vertical-align: top;\n",
       "    }\n",
       "\n",
       "    .dataframe thead th {\n",
       "        text-align: right;\n",
       "    }\n",
       "</style>\n",
       "<table border=\"1\" class=\"dataframe\">\n",
       "  <thead>\n",
       "    <tr style=\"text-align: right;\">\n",
       "      <th></th>\n",
       "      <th>0</th>\n",
       "      <th>1</th>\n",
       "      <th>2</th>\n",
       "      <th>3</th>\n",
       "      <th>4</th>\n",
       "      <th>5</th>\n",
       "      <th>6</th>\n",
       "      <th>7</th>\n",
       "      <th>8</th>\n",
       "      <th>9</th>\n",
       "      <th>...</th>\n",
       "      <th>90</th>\n",
       "      <th>91</th>\n",
       "      <th>92</th>\n",
       "      <th>93</th>\n",
       "      <th>94</th>\n",
       "      <th>95</th>\n",
       "      <th>96</th>\n",
       "      <th>97</th>\n",
       "      <th>98</th>\n",
       "      <th>99</th>\n",
       "    </tr>\n",
       "  </thead>\n",
       "  <tbody>\n",
       "    <tr>\n",
       "      <th>0</th>\n",
       "      <td>1.362656</td>\n",
       "      <td>1.223114</td>\n",
       "      <td>0.158125</td>\n",
       "      <td>0.098262</td>\n",
       "      <td>-0.511146</td>\n",
       "      <td>0.751987</td>\n",
       "      <td>-0.083907</td>\n",
       "      <td>-0.655189</td>\n",
       "      <td>0.124555</td>\n",
       "      <td>0.398819</td>\n",
       "      <td>...</td>\n",
       "      <td>0.252393</td>\n",
       "      <td>-0.726380</td>\n",
       "      <td>0.095431</td>\n",
       "      <td>0.080516</td>\n",
       "      <td>-0.016160</td>\n",
       "      <td>0.231056</td>\n",
       "      <td>-0.469438</td>\n",
       "      <td>0.385305</td>\n",
       "      <td>0.046974</td>\n",
       "      <td>0.750637</td>\n",
       "    </tr>\n",
       "    <tr>\n",
       "      <th>1</th>\n",
       "      <td>-2.101079</td>\n",
       "      <td>1.202782</td>\n",
       "      <td>-1.978461</td>\n",
       "      <td>-0.782652</td>\n",
       "      <td>-0.233708</td>\n",
       "      <td>-2.028353</td>\n",
       "      <td>-0.797505</td>\n",
       "      <td>2.007848</td>\n",
       "      <td>-1.210389</td>\n",
       "      <td>-0.513851</td>\n",
       "      <td>...</td>\n",
       "      <td>-0.320754</td>\n",
       "      <td>0.995709</td>\n",
       "      <td>0.110728</td>\n",
       "      <td>-0.372982</td>\n",
       "      <td>-1.763203</td>\n",
       "      <td>-1.167182</td>\n",
       "      <td>-0.712131</td>\n",
       "      <td>0.787086</td>\n",
       "      <td>0.321424</td>\n",
       "      <td>-1.016185</td>\n",
       "    </tr>\n",
       "    <tr>\n",
       "      <th>2</th>\n",
       "      <td>-0.739998</td>\n",
       "      <td>1.639906</td>\n",
       "      <td>-0.821546</td>\n",
       "      <td>-0.810773</td>\n",
       "      <td>0.262396</td>\n",
       "      <td>-2.618929</td>\n",
       "      <td>-1.665061</td>\n",
       "      <td>1.418108</td>\n",
       "      <td>-0.288657</td>\n",
       "      <td>-0.164132</td>\n",
       "      <td>...</td>\n",
       "      <td>-0.749115</td>\n",
       "      <td>0.654003</td>\n",
       "      <td>0.201651</td>\n",
       "      <td>0.267222</td>\n",
       "      <td>-0.420872</td>\n",
       "      <td>0.687322</td>\n",
       "      <td>0.186000</td>\n",
       "      <td>2.218797</td>\n",
       "      <td>-0.221609</td>\n",
       "      <td>-0.206429</td>\n",
       "    </tr>\n",
       "    <tr>\n",
       "      <th>3</th>\n",
       "      <td>0.233620</td>\n",
       "      <td>1.345427</td>\n",
       "      <td>0.200785</td>\n",
       "      <td>-1.054063</td>\n",
       "      <td>-0.793839</td>\n",
       "      <td>-2.866071</td>\n",
       "      <td>-0.859098</td>\n",
       "      <td>2.171351</td>\n",
       "      <td>-1.371101</td>\n",
       "      <td>-0.124353</td>\n",
       "      <td>...</td>\n",
       "      <td>-0.355255</td>\n",
       "      <td>0.351026</td>\n",
       "      <td>0.254680</td>\n",
       "      <td>-0.528827</td>\n",
       "      <td>-0.650816</td>\n",
       "      <td>-0.855221</td>\n",
       "      <td>0.356243</td>\n",
       "      <td>1.785845</td>\n",
       "      <td>-1.214038</td>\n",
       "      <td>-0.027784</td>\n",
       "    </tr>\n",
       "    <tr>\n",
       "      <th>4</th>\n",
       "      <td>-0.642298</td>\n",
       "      <td>2.164207</td>\n",
       "      <td>-0.219435</td>\n",
       "      <td>-0.764872</td>\n",
       "      <td>-0.822317</td>\n",
       "      <td>-3.844967</td>\n",
       "      <td>-0.121182</td>\n",
       "      <td>3.398263</td>\n",
       "      <td>-1.629255</td>\n",
       "      <td>-0.188076</td>\n",
       "      <td>...</td>\n",
       "      <td>-1.022821</td>\n",
       "      <td>0.926114</td>\n",
       "      <td>-0.006677</td>\n",
       "      <td>-1.271328</td>\n",
       "      <td>-0.895705</td>\n",
       "      <td>-0.809579</td>\n",
       "      <td>1.378056</td>\n",
       "      <td>0.476175</td>\n",
       "      <td>-0.452644</td>\n",
       "      <td>-0.829564</td>\n",
       "    </tr>\n",
       "  </tbody>\n",
       "</table>\n",
       "<p>5 rows × 100 columns</p>\n",
       "</div>"
      ],
      "text/plain": [
       "         0         1         2         3         4         5         6   \\\n",
       "0  1.362656  1.223114  0.158125  0.098262 -0.511146  0.751987 -0.083907   \n",
       "1 -2.101079  1.202782 -1.978461 -0.782652 -0.233708 -2.028353 -0.797505   \n",
       "2 -0.739998  1.639906 -0.821546 -0.810773  0.262396 -2.618929 -1.665061   \n",
       "3  0.233620  1.345427  0.200785 -1.054063 -0.793839 -2.866071 -0.859098   \n",
       "4 -0.642298  2.164207 -0.219435 -0.764872 -0.822317 -3.844967 -0.121182   \n",
       "\n",
       "         7         8         9     ...           90        91        92  \\\n",
       "0 -0.655189  0.124555  0.398819    ...     0.252393 -0.726380  0.095431   \n",
       "1  2.007848 -1.210389 -0.513851    ...    -0.320754  0.995709  0.110728   \n",
       "2  1.418108 -0.288657 -0.164132    ...    -0.749115  0.654003  0.201651   \n",
       "3  2.171351 -1.371101 -0.124353    ...    -0.355255  0.351026  0.254680   \n",
       "4  3.398263 -1.629255 -0.188076    ...    -1.022821  0.926114 -0.006677   \n",
       "\n",
       "         93        94        95        96        97        98        99  \n",
       "0  0.080516 -0.016160  0.231056 -0.469438  0.385305  0.046974  0.750637  \n",
       "1 -0.372982 -1.763203 -1.167182 -0.712131  0.787086  0.321424 -1.016185  \n",
       "2  0.267222 -0.420872  0.687322  0.186000  2.218797 -0.221609 -0.206429  \n",
       "3 -0.528827 -0.650816 -0.855221  0.356243  1.785845 -1.214038 -0.027784  \n",
       "4 -1.271328 -0.895705 -0.809579  1.378056  0.476175 -0.452644 -0.829564  \n",
       "\n",
       "[5 rows x 100 columns]"
      ]
     },
     "execution_count": 21,
     "metadata": {},
     "output_type": "execute_result"
    }
   ],
   "source": [
    "cwd = os.getcwd()\n",
    "collaborative_embeddings = pd.read_pickle(os.path.join(cwd, \"..\", \"data\", \"movie_embeddings_1.pkl\"))\n",
    "print(collaborative_embeddings.shape)\n",
    "collaborative_embeddings.head()"
   ]
  },
  {
   "cell_type": "markdown",
   "metadata": {},
   "source": [
    "# Format Movie Lookup Data"
   ]
  },
  {
   "cell_type": "code",
   "execution_count": null,
   "metadata": {
    "collapsed": true
   },
   "outputs": [],
   "source": [
    "# Load index mapping \n",
    "with open('../data/movie_to_idx.pkl', 'rb') as handle:\n",
    "    movie2idx = pickle.load(handle)"
   ]
  },
  {
   "cell_type": "code",
   "execution_count": 22,
   "metadata": {},
   "outputs": [
    {
     "name": "stdout",
     "output_type": "stream",
     "text": [
      "27278 unique movies in movies.csv\n",
      "26744 unique movies in ratings.csv\n",
      "26744 unique movies in embeddings\n",
      "(26744, 4)\n"
     ]
    },
    {
     "data": {
      "text/html": [
       "<div>\n",
       "<style scoped>\n",
       "    .dataframe tbody tr th:only-of-type {\n",
       "        vertical-align: middle;\n",
       "    }\n",
       "\n",
       "    .dataframe tbody tr th {\n",
       "        vertical-align: top;\n",
       "    }\n",
       "\n",
       "    .dataframe thead th {\n",
       "        text-align: right;\n",
       "    }\n",
       "</style>\n",
       "<table border=\"1\" class=\"dataframe\">\n",
       "  <thead>\n",
       "    <tr style=\"text-align: right;\">\n",
       "      <th></th>\n",
       "      <th>title</th>\n",
       "      <th>genres</th>\n",
       "      <th>ratings_count</th>\n",
       "      <th>avg_rating</th>\n",
       "    </tr>\n",
       "    <tr>\n",
       "      <th>movieId</th>\n",
       "      <th></th>\n",
       "      <th></th>\n",
       "      <th></th>\n",
       "      <th></th>\n",
       "    </tr>\n",
       "  </thead>\n",
       "  <tbody>\n",
       "    <tr>\n",
       "      <th>0</th>\n",
       "      <td>Jumanji (1995)</td>\n",
       "      <td>Adventure|Children|Fantasy</td>\n",
       "      <td>22243</td>\n",
       "      <td>3.211977</td>\n",
       "    </tr>\n",
       "    <tr>\n",
       "      <th>1</th>\n",
       "      <td>City of Lost Children, The (Cité des enfants p...</td>\n",
       "      <td>Adventure|Drama|Fantasy|Mystery|Sci-Fi</td>\n",
       "      <td>8520</td>\n",
       "      <td>3.952230</td>\n",
       "    </tr>\n",
       "    <tr>\n",
       "      <th>2</th>\n",
       "      <td>Twelve Monkeys (a.k.a. 12 Monkeys) (1995)</td>\n",
       "      <td>Mystery|Sci-Fi|Thriller</td>\n",
       "      <td>44980</td>\n",
       "      <td>3.898055</td>\n",
       "    </tr>\n",
       "    <tr>\n",
       "      <th>3</th>\n",
       "      <td>Seven (a.k.a. Se7en) (1995)</td>\n",
       "      <td>Mystery|Thriller</td>\n",
       "      <td>43249</td>\n",
       "      <td>4.053493</td>\n",
       "    </tr>\n",
       "    <tr>\n",
       "      <th>4</th>\n",
       "      <td>Usual Suspects, The (1995)</td>\n",
       "      <td>Crime|Mystery|Thriller</td>\n",
       "      <td>47006</td>\n",
       "      <td>4.334372</td>\n",
       "    </tr>\n",
       "  </tbody>\n",
       "</table>\n",
       "</div>"
      ],
      "text/plain": [
       "                                                     title  \\\n",
       "movieId                                                      \n",
       "0                                           Jumanji (1995)   \n",
       "1        City of Lost Children, The (Cité des enfants p...   \n",
       "2                Twelve Monkeys (a.k.a. 12 Monkeys) (1995)   \n",
       "3                              Seven (a.k.a. Se7en) (1995)   \n",
       "4                               Usual Suspects, The (1995)   \n",
       "\n",
       "                                         genres  ratings_count  avg_rating  \n",
       "movieId                                                                     \n",
       "0                    Adventure|Children|Fantasy          22243    3.211977  \n",
       "1        Adventure|Drama|Fantasy|Mystery|Sci-Fi           8520    3.952230  \n",
       "2                       Mystery|Sci-Fi|Thriller          44980    3.898055  \n",
       "3                              Mystery|Thriller          43249    4.053493  \n",
       "4                        Crime|Mystery|Thriller          47006    4.334372  "
      ]
     },
     "execution_count": 22,
     "metadata": {},
     "output_type": "execute_result"
    }
   ],
   "source": [
    "movies = pd.read_csv(os.path.join(cwd, \"..\", \"data\", \"movies.csv\"))\n",
    "print(\"{} unique movies in movies.csv\".format(len(movies.movieId.unique())))\n",
    "\n",
    "ratings = pd.read_csv(os.path.join(cwd, \"..\", \"data\", \"ratings.csv\"))\n",
    "print(\"{} unique movies in ratings.csv\".format(len(ratings.movieId.unique())))\n",
    "\n",
    "movies = pd.merge(movies, ratings, on=\"movieId\", how=\"inner\")\n",
    "movies.movieId = movies.movieId.apply(lambda x: movie2idx[x])\n",
    "\n",
    "#get popularity\n",
    "popularity = pd.DataFrame(movies[['userId', 'title', 'movieId']].groupby(['title', 'movieId']).agg(['count']))\n",
    "popularity.reset_index(inplace=True)\n",
    "popularity.columns = ['title', 'movieId', 'ratings_count']\n",
    "popularity.sort_values('ratings_count', ascending=False, inplace=True)\n",
    "movies = pd.merge(popularity[['movieId', 'ratings_count']], movies, on='movieId')\n",
    "movies.reset_index(inplace=True)\n",
    "\n",
    "#get average ratings\n",
    "average_ratings = pd.DataFrame(movies[['rating', 'title', 'movieId']].groupby(['title', 'movieId']).agg(['mean']))\n",
    "average_ratings.reset_index(inplace=True)\n",
    "average_ratings.columns = ['title', 'movieId', 'avg_rating']\n",
    "movies = pd.merge(average_ratings[['movieId', 'avg_rating']], movies, on='movieId')\n",
    "movies.reset_index(inplace=True)\n",
    "\n",
    "\n",
    "movies = movies[['movieId', 'title', 'genres', 'ratings_count', 'avg_rating']]\n",
    "movies.drop_duplicates(inplace=True)\n",
    "print(\"{} unique movies in embeddings\".format(len(movies.movieId.unique())))\n",
    "movies.set_index('movieId', inplace=True, drop=True)\n",
    "movies.sort_index(ascending=True, inplace=True)\n",
    "print(movies.shape)\n",
    "movies.head(5)"
   ]
  },
  {
   "cell_type": "code",
   "execution_count": 23,
   "metadata": {},
   "outputs": [
    {
     "data": {
      "text/html": [
       "<div>\n",
       "<style scoped>\n",
       "    .dataframe tbody tr th:only-of-type {\n",
       "        vertical-align: middle;\n",
       "    }\n",
       "\n",
       "    .dataframe tbody tr th {\n",
       "        vertical-align: top;\n",
       "    }\n",
       "\n",
       "    .dataframe thead th {\n",
       "        text-align: right;\n",
       "    }\n",
       "</style>\n",
       "<table border=\"1\" class=\"dataframe\">\n",
       "  <thead>\n",
       "    <tr style=\"text-align: right;\">\n",
       "      <th></th>\n",
       "      <th>title</th>\n",
       "      <th>genres</th>\n",
       "      <th>ratings_count</th>\n",
       "      <th>avg_rating</th>\n",
       "    </tr>\n",
       "    <tr>\n",
       "      <th>movieId</th>\n",
       "      <th></th>\n",
       "      <th></th>\n",
       "      <th></th>\n",
       "      <th></th>\n",
       "    </tr>\n",
       "  </thead>\n",
       "  <tbody>\n",
       "    <tr>\n",
       "      <th>3995</th>\n",
       "      <td>Zodiac (2007)</td>\n",
       "      <td>Crime|Drama|Thriller</td>\n",
       "      <td>3907</td>\n",
       "      <td>3.675454</td>\n",
       "    </tr>\n",
       "  </tbody>\n",
       "</table>\n",
       "</div>"
      ],
      "text/plain": [
       "                 title                genres  ratings_count  avg_rating\n",
       "movieId                                                                \n",
       "3995     Zodiac (2007)  Crime|Drama|Thriller           3907    3.675454"
      ]
     },
     "execution_count": 23,
     "metadata": {},
     "output_type": "execute_result"
    }
   ],
   "source": [
    "movies.query('title == \"Zodiac (2007)\"')"
   ]
  },
  {
   "cell_type": "markdown",
   "metadata": {},
   "source": [
    "# Concatinate latent Tags and Embeddings"
   ]
  },
  {
   "cell_type": "code",
   "execution_count": null,
   "metadata": {},
   "outputs": [],
   "source": [
    "from sklearn import preprocessing\n",
    "\n",
    "#normalize ensembeled dimensions\n",
    "x = np.concatenate((content_embeddings, collaborative_embeddings), axis=1)\n",
    "scaler = preprocessing.StandardScaler()\n",
    "x_scaled = scaler.fit_transform(x)\n",
    "latent_df = pd.DataFrame(x_scaled)"
   ]
  },
  {
   "cell_type": "code",
   "execution_count": null,
   "metadata": {},
   "outputs": [],
   "source": [
    "import os; import sys\n",
    "cwd = os.getcwd()\n",
    "path = os.path.join(cwd, '..', 'movie_recommender')\n",
    "if not path in sys.path:\n",
    "    sys.path.append(path)\n",
    "del cwd, path\n",
    "\n",
    "from similarity import SimilarityPredictions"
   ]
  },
  {
   "cell_type": "code",
   "execution_count": null,
   "metadata": {
    "collapsed": true
   },
   "outputs": [],
   "source": [
    "sim_model_ens = SimilarityPredictions(embeddings=latent_df)"
   ]
  },
  {
   "cell_type": "code",
   "execution_count": null,
   "metadata": {},
   "outputs": [],
   "source": [
    "sim_model_cont = SimilarityPredictions(embeddings=content_embeddings)"
   ]
  },
  {
   "cell_type": "code",
   "execution_count": null,
   "metadata": {
    "collapsed": true
   },
   "outputs": [],
   "source": [
    "sim_model_coll = SimilarityPredictions(embeddings=collaborative_embeddings)"
   ]
  },
  {
   "cell_type": "code",
   "execution_count": null,
   "metadata": {
    "collapsed": true
   },
   "outputs": [],
   "source": [
    "#movie_id = 3006 #primer\n",
    "#movie_id = 1195 #grease\n",
    "movie_id = 131 #LOTR\n",
    "#movie_id = 2087 #inception\n",
    "#movie_id = 3995 #zodiac\n",
    "#movie_id = 23877 #forgotton (1 rating)\n",
    "#movie_id = 15816 #rated 19 times"
   ]
  },
  {
   "cell_type": "markdown",
   "metadata": {},
   "source": [
    "# Ensemble recommendations"
   ]
  },
  {
   "cell_type": "code",
   "execution_count": null,
   "metadata": {},
   "outputs": [],
   "source": [
    "output = sim_model_ens.predict_similar_items(seed_item=movie_id, n=20)"
   ]
  },
  {
   "cell_type": "code",
   "execution_count": null,
   "metadata": {},
   "outputs": [],
   "source": [
    "similar_movies = pd.DataFrame(output)\n",
    "similar_movies.set_index('item_id', inplace=True)\n",
    "sim_df = pd.merge(movies, similar_movies, left_index=True, right_index=True)\n",
    "sim_df.sort_values('similarity_score', ascending=False, inplace=True)\n",
    "sim_df"
   ]
  },
  {
   "cell_type": "markdown",
   "metadata": {},
   "source": [
    "# Content Recommendations"
   ]
  },
  {
   "cell_type": "code",
   "execution_count": null,
   "metadata": {},
   "outputs": [],
   "source": [
    "output = sim_model_cont.predict_similar_items(seed_item=movie_id, n=20)"
   ]
  },
  {
   "cell_type": "code",
   "execution_count": null,
   "metadata": {},
   "outputs": [],
   "source": [
    "similar_movies = pd.DataFrame(output)\n",
    "similar_movies.set_index('item_id', inplace=True)\n",
    "sim_df = pd.merge(movies, similar_movies, left_index=True, right_index=True)\n",
    "sim_df.sort_values('similarity_score', ascending=False, inplace=True)\n",
    "sim_df"
   ]
  },
  {
   "cell_type": "markdown",
   "metadata": {},
   "source": [
    "# Collaborative Recommendations"
   ]
  },
  {
   "cell_type": "code",
   "execution_count": null,
   "metadata": {
    "collapsed": true
   },
   "outputs": [],
   "source": [
    "output = sim_model_coll.predict_similar_items(seed_item=movie_id, n=20)"
   ]
  },
  {
   "cell_type": "code",
   "execution_count": null,
   "metadata": {},
   "outputs": [],
   "source": [
    "similar_movies = pd.DataFrame(output)\n",
    "similar_movies.set_index('item_id', inplace=True)\n",
    "sim_df = pd.merge(movies, similar_movies, left_index=True, right_index=True)\n",
    "sim_df.sort_values('similarity_score', ascending=False, inplace=True)\n",
    "sim_df"
   ]
  },
  {
   "cell_type": "code",
   "execution_count": null,
   "metadata": {
    "collapsed": true
   },
   "outputs": [],
   "source": []
  }
 ],
 "metadata": {
  "kernelspec": {
   "display_name": "my-movie-recommender",
   "language": "python",
   "name": "my-movie-recommender"
  },
  "language_info": {
   "codemirror_mode": {
    "name": "ipython",
    "version": 3
   },
   "file_extension": ".py",
   "mimetype": "text/x-python",
   "name": "python",
   "nbconvert_exporter": "python",
   "pygments_lexer": "ipython3",
   "version": "3.6.5"
  },
  "toc": {
   "colors": {
    "hover_highlight": "#DAA520",
    "navigate_num": "#000000",
    "navigate_text": "#333333",
    "running_highlight": "#FF0000",
    "selected_highlight": "#FFD700",
    "sidebar_border": "#EEEEEE",
    "wrapper_background": "#FFFFFF"
   },
   "moveMenuLeft": true,
   "nav_menu": {
    "height": "11px",
    "width": "252px"
   },
   "navigate_menu": true,
   "number_sections": true,
   "sideBar": true,
   "skip_h1_title": false,
   "threshold": 4,
   "toc_cell": false,
   "toc_section_display": "block",
   "toc_window_display": false,
   "widenNotebook": false
  }
 },
 "nbformat": 4,
 "nbformat_minor": 2
}
