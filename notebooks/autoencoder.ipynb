{
 "cells": [
  {
   "cell_type": "code",
   "execution_count": 1,
   "metadata": {},
   "outputs": [
    {
     "name": "stdout",
     "output_type": "stream",
     "text": [
      "0.4.1.post2\n"
     ]
    }
   ],
   "source": [
    "import torch; print(torch.__version__)"
   ]
  },
  {
   "cell_type": "code",
   "execution_count": 14,
   "metadata": {},
   "outputs": [],
   "source": [
    "import os; import sys\n",
    "cwd = os.getcwd()\n",
    "path = os.path.join(cwd, '..', 'movie_recommender')\n",
    "if not path in sys.path:\n",
    "    sys.path.append(path)\n",
    "del cwd, path"
   ]
  },
  {
   "cell_type": "code",
   "execution_count": 15,
   "metadata": {},
   "outputs": [],
   "source": [
    "from autoencoder import AutoEncoder"
   ]
  },
  {
   "cell_type": "code",
   "execution_count": 16,
   "metadata": {},
   "outputs": [],
   "source": [
    "%reload_ext autoreload\n",
    "%autoreload 2\n",
    "%matplotlib inline\n",
    "\n",
    "import numpy as np\n",
    "import pandas as pd\n",
    "import pickle\n",
    "\n",
    "import multiprocessing\n",
    "\n",
    "import torch.nn as nn\n",
    "import torch.optim as optim\n",
    "from torch.utils.data import Dataset, DataLoader"
   ]
  },
  {
   "cell_type": "code",
   "execution_count": 17,
   "metadata": {},
   "outputs": [],
   "source": [
    "path = \"../data/\"\n",
    "with open(f'{path}tfidf_matrix.pkl', 'rb') as fh:\n",
    "    tfidf = pickle.load(fh)"
   ]
  },
  {
   "cell_type": "code",
   "execution_count": 18,
   "metadata": {},
   "outputs": [
    {
     "data": {
      "text/html": [
       "<div>\n",
       "<style scoped>\n",
       "    .dataframe tbody tr th:only-of-type {\n",
       "        vertical-align: middle;\n",
       "    }\n",
       "\n",
       "    .dataframe tbody tr th {\n",
       "        vertical-align: top;\n",
       "    }\n",
       "\n",
       "    .dataframe thead th {\n",
       "        text-align: right;\n",
       "    }\n",
       "</style>\n",
       "<table border=\"1\" class=\"dataframe\">\n",
       "  <thead>\n",
       "    <tr style=\"text-align: right;\">\n",
       "      <th></th>\n",
       "      <th>0</th>\n",
       "      <th>1</th>\n",
       "      <th>2</th>\n",
       "      <th>3</th>\n",
       "      <th>4</th>\n",
       "      <th>5</th>\n",
       "      <th>6</th>\n",
       "      <th>7</th>\n",
       "      <th>8</th>\n",
       "      <th>9</th>\n",
       "      <th>...</th>\n",
       "      <th>2785</th>\n",
       "      <th>2786</th>\n",
       "      <th>2787</th>\n",
       "      <th>2788</th>\n",
       "      <th>2789</th>\n",
       "      <th>2790</th>\n",
       "      <th>2791</th>\n",
       "      <th>2792</th>\n",
       "      <th>2793</th>\n",
       "      <th>2794</th>\n",
       "    </tr>\n",
       "  </thead>\n",
       "  <tbody>\n",
       "    <tr>\n",
       "      <th>0</th>\n",
       "      <td>0.0</td>\n",
       "      <td>0.0</td>\n",
       "      <td>0.0</td>\n",
       "      <td>0.0</td>\n",
       "      <td>0.0</td>\n",
       "      <td>0.0</td>\n",
       "      <td>0.0</td>\n",
       "      <td>0.0</td>\n",
       "      <td>0.0</td>\n",
       "      <td>0.0</td>\n",
       "      <td>...</td>\n",
       "      <td>0.0</td>\n",
       "      <td>0.0</td>\n",
       "      <td>0.0</td>\n",
       "      <td>0.0</td>\n",
       "      <td>0.0</td>\n",
       "      <td>0.0</td>\n",
       "      <td>0.0</td>\n",
       "      <td>0.0</td>\n",
       "      <td>0.0</td>\n",
       "      <td>0.0</td>\n",
       "    </tr>\n",
       "    <tr>\n",
       "      <th>1</th>\n",
       "      <td>0.0</td>\n",
       "      <td>0.0</td>\n",
       "      <td>0.0</td>\n",
       "      <td>0.0</td>\n",
       "      <td>0.0</td>\n",
       "      <td>0.0</td>\n",
       "      <td>0.0</td>\n",
       "      <td>0.0</td>\n",
       "      <td>0.0</td>\n",
       "      <td>0.0</td>\n",
       "      <td>...</td>\n",
       "      <td>0.0</td>\n",
       "      <td>0.0</td>\n",
       "      <td>0.0</td>\n",
       "      <td>0.0</td>\n",
       "      <td>0.0</td>\n",
       "      <td>0.0</td>\n",
       "      <td>0.0</td>\n",
       "      <td>0.0</td>\n",
       "      <td>0.0</td>\n",
       "      <td>0.0</td>\n",
       "    </tr>\n",
       "    <tr>\n",
       "      <th>2</th>\n",
       "      <td>0.0</td>\n",
       "      <td>0.0</td>\n",
       "      <td>0.0</td>\n",
       "      <td>0.0</td>\n",
       "      <td>0.0</td>\n",
       "      <td>0.0</td>\n",
       "      <td>0.0</td>\n",
       "      <td>0.0</td>\n",
       "      <td>0.0</td>\n",
       "      <td>0.0</td>\n",
       "      <td>...</td>\n",
       "      <td>0.0</td>\n",
       "      <td>0.0</td>\n",
       "      <td>0.0</td>\n",
       "      <td>0.0</td>\n",
       "      <td>0.0</td>\n",
       "      <td>0.0</td>\n",
       "      <td>0.0</td>\n",
       "      <td>0.0</td>\n",
       "      <td>0.0</td>\n",
       "      <td>0.0</td>\n",
       "    </tr>\n",
       "    <tr>\n",
       "      <th>3</th>\n",
       "      <td>0.0</td>\n",
       "      <td>0.0</td>\n",
       "      <td>0.0</td>\n",
       "      <td>0.0</td>\n",
       "      <td>0.0</td>\n",
       "      <td>0.0</td>\n",
       "      <td>0.0</td>\n",
       "      <td>0.0</td>\n",
       "      <td>0.0</td>\n",
       "      <td>0.0</td>\n",
       "      <td>...</td>\n",
       "      <td>0.0</td>\n",
       "      <td>0.0</td>\n",
       "      <td>0.0</td>\n",
       "      <td>0.0</td>\n",
       "      <td>0.0</td>\n",
       "      <td>0.0</td>\n",
       "      <td>0.0</td>\n",
       "      <td>0.0</td>\n",
       "      <td>0.0</td>\n",
       "      <td>0.0</td>\n",
       "    </tr>\n",
       "    <tr>\n",
       "      <th>4</th>\n",
       "      <td>0.0</td>\n",
       "      <td>0.0</td>\n",
       "      <td>0.0</td>\n",
       "      <td>0.0</td>\n",
       "      <td>0.0</td>\n",
       "      <td>0.0</td>\n",
       "      <td>0.0</td>\n",
       "      <td>0.0</td>\n",
       "      <td>0.0</td>\n",
       "      <td>0.0</td>\n",
       "      <td>...</td>\n",
       "      <td>0.0</td>\n",
       "      <td>0.0</td>\n",
       "      <td>0.0</td>\n",
       "      <td>0.0</td>\n",
       "      <td>0.0</td>\n",
       "      <td>0.0</td>\n",
       "      <td>0.0</td>\n",
       "      <td>0.0</td>\n",
       "      <td>0.0</td>\n",
       "      <td>0.0</td>\n",
       "    </tr>\n",
       "  </tbody>\n",
       "</table>\n",
       "<p>5 rows × 2795 columns</p>\n",
       "</div>"
      ],
      "text/plain": [
       "   0     1     2     3     4     5     6     7     8     9     ...   2785  \\\n",
       "0   0.0   0.0   0.0   0.0   0.0   0.0   0.0   0.0   0.0   0.0  ...    0.0   \n",
       "1   0.0   0.0   0.0   0.0   0.0   0.0   0.0   0.0   0.0   0.0  ...    0.0   \n",
       "2   0.0   0.0   0.0   0.0   0.0   0.0   0.0   0.0   0.0   0.0  ...    0.0   \n",
       "3   0.0   0.0   0.0   0.0   0.0   0.0   0.0   0.0   0.0   0.0  ...    0.0   \n",
       "4   0.0   0.0   0.0   0.0   0.0   0.0   0.0   0.0   0.0   0.0  ...    0.0   \n",
       "\n",
       "   2786  2787  2788  2789  2790  2791  2792  2793  2794  \n",
       "0   0.0   0.0   0.0   0.0   0.0   0.0   0.0   0.0   0.0  \n",
       "1   0.0   0.0   0.0   0.0   0.0   0.0   0.0   0.0   0.0  \n",
       "2   0.0   0.0   0.0   0.0   0.0   0.0   0.0   0.0   0.0  \n",
       "3   0.0   0.0   0.0   0.0   0.0   0.0   0.0   0.0   0.0  \n",
       "4   0.0   0.0   0.0   0.0   0.0   0.0   0.0   0.0   0.0  \n",
       "\n",
       "[5 rows x 2795 columns]"
      ]
     },
     "execution_count": 18,
     "metadata": {},
     "output_type": "execute_result"
    }
   ],
   "source": [
    "tfidf = pd.DataFrame(tfidf.toarray()); tfidf.head()"
   ]
  },
  {
   "cell_type": "code",
   "execution_count": 35,
   "metadata": {},
   "outputs": [],
   "source": [
    "ae = AutoEncoder(tfidf)"
   ]
  },
  {
   "cell_type": "code",
   "execution_count": 36,
   "metadata": {},
   "outputs": [
    {
     "name": "stdout",
     "output_type": "stream",
     "text": [
      "Epoch 1/10\n",
      "train loss: 0.00046464288607239723 | validation loss: 0.00038212083745747805)\n",
      "train loss: 0.0003210367285646498 | validation loss: 0.00031685936846770346)\n",
      "train loss: 0.00026126354350708425 | validation loss: 0.0002859831147361547)\n",
      "Epoch 2/10\n",
      "train loss: 0.00030891509959474206 | validation loss: 0.00026168496697209775)\n",
      "train loss: 0.0002551644283812493 | validation loss: 0.0002503472787793726)\n",
      "train loss: 0.0002474751672707498 | validation loss: 0.00024260485952254385)\n",
      "Epoch 3/10\n",
      "train loss: 0.0002309160481672734 | validation loss: 0.0002355848264414817)\n",
      "train loss: 0.00021812973136547953 | validation loss: 0.00023072566546034068)\n",
      "train loss: 0.0002491537597961724 | validation loss: 0.0002255319122923538)\n",
      "Epoch 4/10\n",
      "train loss: 0.00024054868845269084 | validation loss: 0.00021899602143093944)\n",
      "train loss: 0.0002265473740408197 | validation loss: 0.0002152492816094309)\n",
      "train loss: 0.00022231927141547203 | validation loss: 0.0002125063765561208)\n",
      "Epoch 5/10\n",
      "train loss: 0.00021698116324841976 | validation loss: 0.0002089877234539017)\n",
      "train loss: 0.00023818724730517715 | validation loss: 0.0002067798632197082)\n",
      "train loss: 0.00018332424224354327 | validation loss: 0.0002040923573076725)\n",
      "Epoch 6/10\n",
      "train loss: 0.00021354171622078866 | validation loss: 0.00020123417198192328)\n",
      "train loss: 0.00017926910368259996 | validation loss: 0.00019834592239931226)\n",
      "train loss: 0.00019276892999187112 | validation loss: 0.00019614519260358065)\n",
      "Epoch 7/10\n",
      "train loss: 0.00020345297525636852 | validation loss: 0.0001935842155944556)\n",
      "train loss: 0.0002002282562898472 | validation loss: 0.00019157932547386736)\n",
      "train loss: 0.00017950285109691322 | validation loss: 0.00019038123718928546)\n",
      "Epoch 8/10\n",
      "train loss: 0.0001512633025413379 | validation loss: 0.00018824638391379267)\n",
      "train loss: 0.0001864814548753202 | validation loss: 0.00018673799058888108)\n",
      "train loss: 0.00018568536324892193 | validation loss: 0.00018496077973395586)\n",
      "Epoch 9/10\n",
      "train loss: 0.00019504898227751255 | validation loss: 0.00018312250904273242)\n",
      "train loss: 0.00015415821690112352 | validation loss: 0.0001815556752262637)\n",
      "train loss: 0.00017161598952952772 | validation loss: 0.0001800726167857647)\n",
      "Epoch 10/10\n",
      "train loss: 0.0001851370179792866 | validation loss: 0.0001778380828909576)\n",
      "train loss: 0.00016741504077799618 | validation loss: 0.0001760155864758417)\n",
      "train loss: 0.0001595871290192008 | validation loss: 0.00017379570635966957)\n"
     ]
    }
   ],
   "source": [
    "ae.train_loop(epochs=10)"
   ]
  },
  {
   "cell_type": "code",
   "execution_count": 21,
   "metadata": {},
   "outputs": [],
   "source": [
    "encoded = ae.get_encoded_representations()"
   ]
  },
  {
   "cell_type": "code",
   "execution_count": 24,
   "metadata": {},
   "outputs": [
    {
     "data": {
      "text/plain": [
       "(26744, 100)"
      ]
     },
     "execution_count": 24,
     "metadata": {},
     "output_type": "execute_result"
    }
   ],
   "source": [
    "encoded.shape"
   ]
  },
  {
   "cell_type": "code",
   "execution_count": 33,
   "metadata": {},
   "outputs": [
    {
     "data": {
      "text/plain": [
       "array([[0.36352116, 0.        , 0.        , 0.41589153, 0.11584239],\n",
       "       [0.74162334, 0.        , 0.        , 0.        , 0.91098714],\n",
       "       [0.41039813, 0.        , 0.12713385, 1.4789957 , 0.36535418],\n",
       "       [0.39617822, 0.        , 0.0898796 , 2.34629   , 0.56198496],\n",
       "       [0.        , 0.        , 0.21155629, 1.3837814 , 0.32136047],\n",
       "       [2.2182746 , 0.        , 0.17216812, 0.76960784, 0.83759296],\n",
       "       [0.        , 0.        , 0.22067465, 0.        , 0.1223649 ],\n",
       "       [0.        , 0.        , 0.2129073 , 0.38590807, 0.08879029],\n",
       "       [0.517005  , 0.        , 0.2170798 , 1.1910264 , 1.2736168 ],\n",
       "       [1.9090735 , 0.3791474 , 0.        , 0.        , 0.270601  ]],\n",
       "      dtype=float32)"
      ]
     },
     "execution_count": 33,
     "metadata": {},
     "output_type": "execute_result"
    }
   ],
   "source": [
    "encoded[:10, :5]"
   ]
  },
  {
   "cell_type": "code",
   "execution_count": null,
   "metadata": {},
   "outputs": [],
   "source": [
    "with open('../data/autoencoder_embeddings.pkl', 'wb') as fh:\n",
    "    pickle.dump(encoded, fh)"
   ]
  }
 ],
 "metadata": {
  "kernelspec": {
   "display_name": "ana3",
   "language": "python",
   "name": "ana3"
  },
  "language_info": {
   "codemirror_mode": {
    "name": "ipython",
    "version": 3
   },
   "file_extension": ".py",
   "mimetype": "text/x-python",
   "name": "python",
   "nbconvert_exporter": "python",
   "pygments_lexer": "ipython3",
   "version": "3.6.5"
  }
 },
 "nbformat": 4,
 "nbformat_minor": 2
}
