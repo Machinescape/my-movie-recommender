{
 "cells": [
  {
   "cell_type": "code",
   "execution_count": 1,
   "metadata": {},
   "outputs": [
    {
     "data": {
      "text/html": [
       "<style>.container { width:80% !important; }</style>"
      ],
      "text/plain": [
       "<IPython.core.display.HTML object>"
      ]
     },
     "metadata": {},
     "output_type": "display_data"
    }
   ],
   "source": [
    "import numpy as np\n",
    "import pandas as pd\n",
    "import os\n",
    "import sys\n",
    "import pickle\n",
    "import time\n",
    "import datetime\n",
    "import matplotlib.pyplot as plt\n",
    "import seaborn as sns\n",
    "from importlib import reload\n",
    "%matplotlib inline\n",
    "from IPython.core.display import display, HTML, clear_output\n",
    "display(HTML(\"<style>.container { width:80% !important; }</style>\")) "
   ]
  },
  {
   "cell_type": "code",
   "execution_count": 2,
   "metadata": {},
   "outputs": [],
   "source": [
    "import os; import sys\n",
    "cwd = os.getcwd()\n",
    "path = os.path.join(cwd, '..', 'movie_recommender')\n",
    "if not path in sys.path:\n",
    "    sys.path.append(path)\n",
    "del cwd, path\n",
    "\n",
    "from similarity import SimilarityPredictions\n",
    "from collaborative_filtering import CollaborativeFiltering\n",
    "from content_filtering import ContentFiltering"
   ]
  },
  {
   "cell_type": "markdown",
   "metadata": {},
   "source": [
    "# Load Tags Data"
   ]
  },
  {
   "cell_type": "code",
   "execution_count": 3,
   "metadata": {
    "collapsed": true
   },
   "outputs": [],
   "source": [
    "# Load index mapping \n",
    "with open('../data/movie_to_idx.pkl', 'rb') as handle:\n",
    "    movie2idx = pickle.load(handle)"
   ]
  },
  {
   "cell_type": "code",
   "execution_count": 4,
   "metadata": {},
   "outputs": [
    {
     "name": "stdout",
     "output_type": "stream",
     "text": [
      "19545 unique movies in tags.csv\n",
      "26744 unique movies in ratings.csv\n"
     ]
    }
   ],
   "source": [
    "#load tags and ratings data\n",
    "cwd = os.getcwd()\n",
    "tags = pd.read_csv(os.path.join(cwd, \"..\", \"data\", \"tags.csv\"))\n",
    "print(\"{} unique movies in tags.csv\".format(len(tags.movieId.unique())))\n",
    "ratings = pd.read_csv(os.path.join(cwd, \"..\", \"data\", \"ratings.csv\"))\n",
    "ratings = ratings.drop_duplicates('movieId')\n",
    "print(\"{} unique movies in ratings.csv\".format(len(ratings.movieId.unique())))"
   ]
  },
  {
   "cell_type": "code",
   "execution_count": 5,
   "metadata": {},
   "outputs": [
    {
     "name": "stdout",
     "output_type": "stream",
     "text": [
      "26744 unique movies in tags.csv\n",
      "(472537, 7)\n"
     ]
    },
    {
     "data": {
      "text/html": [
       "<div>\n",
       "<style scoped>\n",
       "    .dataframe tbody tr th:only-of-type {\n",
       "        vertical-align: middle;\n",
       "    }\n",
       "\n",
       "    .dataframe tbody tr th {\n",
       "        vertical-align: top;\n",
       "    }\n",
       "\n",
       "    .dataframe thead th {\n",
       "        text-align: right;\n",
       "    }\n",
       "</style>\n",
       "<table border=\"1\" class=\"dataframe\">\n",
       "  <thead>\n",
       "    <tr style=\"text-align: right;\">\n",
       "      <th></th>\n",
       "      <th>userId_x</th>\n",
       "      <th>movieId</th>\n",
       "      <th>tag</th>\n",
       "      <th>timestamp_x</th>\n",
       "      <th>userId_y</th>\n",
       "      <th>rating</th>\n",
       "      <th>timestamp_y</th>\n",
       "    </tr>\n",
       "  </thead>\n",
       "  <tbody>\n",
       "    <tr>\n",
       "      <th>0</th>\n",
       "      <td>18.0</td>\n",
       "      <td>3135</td>\n",
       "      <td>Mark Waters</td>\n",
       "      <td>1.240597e+09</td>\n",
       "      <td>103</td>\n",
       "      <td>3.5</td>\n",
       "      <td>1055018362</td>\n",
       "    </tr>\n",
       "    <tr>\n",
       "      <th>1</th>\n",
       "      <td>66193.0</td>\n",
       "      <td>3135</td>\n",
       "      <td>naive</td>\n",
       "      <td>1.294446e+09</td>\n",
       "      <td>103</td>\n",
       "      <td>3.5</td>\n",
       "      <td>1055018362</td>\n",
       "    </tr>\n",
       "    <tr>\n",
       "      <th>2</th>\n",
       "      <td>70201.0</td>\n",
       "      <td>3135</td>\n",
       "      <td>Mark Waters</td>\n",
       "      <td>1.308333e+09</td>\n",
       "      <td>103</td>\n",
       "      <td>3.5</td>\n",
       "      <td>1055018362</td>\n",
       "    </tr>\n",
       "    <tr>\n",
       "      <th>3</th>\n",
       "      <td>89274.0</td>\n",
       "      <td>3135</td>\n",
       "      <td>Freddie Prinze Jr.</td>\n",
       "      <td>1.375164e+09</td>\n",
       "      <td>103</td>\n",
       "      <td>3.5</td>\n",
       "      <td>1055018362</td>\n",
       "    </tr>\n",
       "    <tr>\n",
       "      <th>4</th>\n",
       "      <td>65.0</td>\n",
       "      <td>639</td>\n",
       "      <td>dark hero</td>\n",
       "      <td>1.368150e+09</td>\n",
       "      <td>8</td>\n",
       "      <td>3.0</td>\n",
       "      <td>833981834</td>\n",
       "    </tr>\n",
       "  </tbody>\n",
       "</table>\n",
       "</div>"
      ],
      "text/plain": [
       "   userId_x  movieId                 tag   timestamp_x  userId_y  rating  \\\n",
       "0      18.0     3135         Mark Waters  1.240597e+09       103     3.5   \n",
       "1   66193.0     3135               naive  1.294446e+09       103     3.5   \n",
       "2   70201.0     3135         Mark Waters  1.308333e+09       103     3.5   \n",
       "3   89274.0     3135  Freddie Prinze Jr.  1.375164e+09       103     3.5   \n",
       "4      65.0      639           dark hero  1.368150e+09         8     3.0   \n",
       "\n",
       "   timestamp_y  \n",
       "0   1055018362  \n",
       "1   1055018362  \n",
       "2   1055018362  \n",
       "3   1055018362  \n",
       "4    833981834  "
      ]
     },
     "execution_count": 5,
     "metadata": {},
     "output_type": "execute_result"
    }
   ],
   "source": [
    "#map movie index for tags data\n",
    "tags = pd.merge(tags, ratings, on=\"movieId\", how=\"right\")\n",
    "tags.movieId = tags.movieId.apply(lambda x: movie2idx[x])\n",
    "print(\"{} unique movies in tags.csv\".format(len(tags.movieId.unique())))\n",
    "print(tags.shape)\n",
    "tags.head()"
   ]
  },
  {
   "cell_type": "code",
   "execution_count": 6,
   "metadata": {},
   "outputs": [
    {
     "name": "stdout",
     "output_type": "stream",
     "text": [
      "27278 unique movies in movies.csv\n",
      "26744 unique movies in ratings.csv\n",
      "26744 unique movies in movies.csv\n"
     ]
    },
    {
     "data": {
      "text/html": [
       "<div>\n",
       "<style scoped>\n",
       "    .dataframe tbody tr th:only-of-type {\n",
       "        vertical-align: middle;\n",
       "    }\n",
       "\n",
       "    .dataframe tbody tr th {\n",
       "        vertical-align: top;\n",
       "    }\n",
       "\n",
       "    .dataframe thead th {\n",
       "        text-align: right;\n",
       "    }\n",
       "</style>\n",
       "<table border=\"1\" class=\"dataframe\">\n",
       "  <thead>\n",
       "    <tr style=\"text-align: right;\">\n",
       "      <th></th>\n",
       "      <th>title</th>\n",
       "      <th>genres</th>\n",
       "      <th>userId</th>\n",
       "      <th>rating</th>\n",
       "      <th>timestamp</th>\n",
       "    </tr>\n",
       "    <tr>\n",
       "      <th>movieId</th>\n",
       "      <th></th>\n",
       "      <th></th>\n",
       "      <th></th>\n",
       "      <th></th>\n",
       "      <th></th>\n",
       "    </tr>\n",
       "  </thead>\n",
       "  <tbody>\n",
       "    <tr>\n",
       "      <th>3006</th>\n",
       "      <td>Primer (2004)</td>\n",
       "      <td>Drama SciFi</td>\n",
       "      <td>96</td>\n",
       "      <td>4.5</td>\n",
       "      <td>1402187423</td>\n",
       "    </tr>\n",
       "  </tbody>\n",
       "</table>\n",
       "</div>"
      ],
      "text/plain": [
       "                 title       genres  userId  rating   timestamp\n",
       "movieId                                                        \n",
       "3006     Primer (2004)  Drama SciFi      96     4.5  1402187423"
      ]
     },
     "execution_count": 6,
     "metadata": {},
     "output_type": "execute_result"
    }
   ],
   "source": [
    "#map movie index for movie data\n",
    "movies = pd.read_csv(os.path.join(cwd, \"..\", \"data\", \"movies.csv\"))\n",
    "print(\"{} unique movies in movies.csv\".format(len(movies.movieId.unique())))\n",
    "print(\"{} unique movies in ratings.csv\".format(len(ratings.movieId.unique())))\n",
    "\n",
    "movies = pd.merge(movies, ratings, on=\"movieId\", how=\"inner\")\n",
    "movies.movieId = movies.movieId.apply(lambda x: movie2idx[x])\n",
    "print(\"{} unique movies in movies.csv\".format(len(movies.movieId.unique())))\n",
    "\n",
    "movies.set_index('movieId', inplace=True)\n",
    "movies['genres'] = movies['genres'].str.replace(pat=\"|\", repl=\" \")\n",
    "movies['genres'] = movies['genres'].str.replace(pat=\"-\", repl=\"\")\n",
    "movies.query('title == \"Primer (2004)\"')"
   ]
  },
  {
   "cell_type": "code",
   "execution_count": 7,
   "metadata": {
    "scrolled": true
   },
   "outputs": [
    {
     "data": {
      "text/plain": [
       "<matplotlib.axes._subplots.AxesSubplot at 0x1a0e6940b8>"
      ]
     },
     "execution_count": 7,
     "metadata": {},
     "output_type": "execute_result"
    },
    {
     "data": {
      "image/png": "[encoded data removed]",
      "text/plain": [
       "<Figure size 432x288 with 1 Axes>"
      ]
     },
     "metadata": {},
     "output_type": "display_data"
    }
   ],
   "source": [
    "tags.tag.value_counts().hist(bins=50)"
   ]
  },
  {
   "cell_type": "code",
   "execution_count": 8,
   "metadata": {},
   "outputs": [
    {
     "name": "stdout",
     "output_type": "stream",
     "text": [
      "There are 26744 unique movies\n"
     ]
    },
    {
     "data": {
      "text/html": [
       "<div>\n",
       "<style scoped>\n",
       "    .dataframe tbody tr th:only-of-type {\n",
       "        vertical-align: middle;\n",
       "    }\n",
       "\n",
       "    .dataframe tbody tr th {\n",
       "        vertical-align: top;\n",
       "    }\n",
       "\n",
       "    .dataframe thead th {\n",
       "        text-align: right;\n",
       "    }\n",
       "</style>\n",
       "<table border=\"1\" class=\"dataframe\">\n",
       "  <thead>\n",
       "    <tr style=\"text-align: right;\">\n",
       "      <th></th>\n",
       "      <th>movieId</th>\n",
       "      <th>tag</th>\n",
       "    </tr>\n",
       "  </thead>\n",
       "  <tbody>\n",
       "    <tr>\n",
       "      <th>1825</th>\n",
       "      <td>1825</td>\n",
       "      <td>{Watched 3D adapted from:book series bellicose...</td>\n",
       "    </tr>\n",
       "    <tr>\n",
       "      <th>15993</th>\n",
       "      <td>15993</td>\n",
       "      <td>{}</td>\n",
       "    </tr>\n",
       "    <tr>\n",
       "      <th>22613</th>\n",
       "      <td>22613</td>\n",
       "      <td>{}</td>\n",
       "    </tr>\n",
       "    <tr>\n",
       "      <th>17000</th>\n",
       "      <td>17000</td>\n",
       "      <td>{Mitsuo Yanagimachi}</td>\n",
       "    </tr>\n",
       "    <tr>\n",
       "      <th>25641</th>\n",
       "      <td>25641</td>\n",
       "      <td>{}</td>\n",
       "    </tr>\n",
       "    <tr>\n",
       "      <th>461</th>\n",
       "      <td>461</td>\n",
       "      <td>{sport:bobsledding bobsled Jamaica Olympics sp...</td>\n",
       "    </tr>\n",
       "    <tr>\n",
       "      <th>19860</th>\n",
       "      <td>19860</td>\n",
       "      <td>{}</td>\n",
       "    </tr>\n",
       "    <tr>\n",
       "      <th>1954</th>\n",
       "      <td>1954</td>\n",
       "      <td>{delusion delusional dork people emotional fam...</td>\n",
       "    </tr>\n",
       "    <tr>\n",
       "      <th>1725</th>\n",
       "      <td>1725</td>\n",
       "      <td>{Penny Marshall military}</td>\n",
       "    </tr>\n",
       "    <tr>\n",
       "      <th>23951</th>\n",
       "      <td>23951</td>\n",
       "      <td>{}</td>\n",
       "    </tr>\n",
       "  </tbody>\n",
       "</table>\n",
       "</div>"
      ],
      "text/plain": [
       "       movieId                                                tag\n",
       "1825      1825  {Watched 3D adapted from:book series bellicose...\n",
       "15993    15993                                                 {}\n",
       "22613    22613                                                 {}\n",
       "17000    17000                               {Mitsuo Yanagimachi}\n",
       "25641    25641                                                 {}\n",
       "461        461  {sport:bobsledding bobsled Jamaica Olympics sp...\n",
       "19860    19860                                                 {}\n",
       "1954      1954  {delusion delusional dork people emotional fam...\n",
       "1725      1725                          {Penny Marshall military}\n",
       "23951    23951                                                 {}"
      ]
     },
     "execution_count": 8,
     "metadata": {},
     "output_type": "execute_result"
    }
   ],
   "source": [
    "#create documents from tags\n",
    "tags.fillna(\"\", inplace=True)\n",
    "tags = pd.DataFrame(tags.groupby('movieId')['tag'].apply(lambda x: \"{%s}\" % ' '.join(x)))\n",
    "tags.reset_index(inplace=True)\n",
    "movie_id = tags.movieId\n",
    "print(\"There are {} unique movies\".format(len(movie_id)))\n",
    "tags.sample(10)"
   ]
  },
  {
   "cell_type": "code",
   "execution_count": 9,
   "metadata": {},
   "outputs": [
    {
     "data": {
      "text/html": [
       "<div>\n",
       "<style scoped>\n",
       "    .dataframe tbody tr th:only-of-type {\n",
       "        vertical-align: middle;\n",
       "    }\n",
       "\n",
       "    .dataframe tbody tr th {\n",
       "        vertical-align: top;\n",
       "    }\n",
       "\n",
       "    .dataframe thead th {\n",
       "        text-align: right;\n",
       "    }\n",
       "</style>\n",
       "<table border=\"1\" class=\"dataframe\">\n",
       "  <thead>\n",
       "    <tr style=\"text-align: right;\">\n",
       "      <th></th>\n",
       "      <th>title</th>\n",
       "      <th>genres</th>\n",
       "      <th>userId</th>\n",
       "      <th>rating</th>\n",
       "      <th>timestamp</th>\n",
       "      <th>movieId</th>\n",
       "      <th>tag</th>\n",
       "      <th>document</th>\n",
       "    </tr>\n",
       "  </thead>\n",
       "  <tbody>\n",
       "    <tr>\n",
       "      <th>0</th>\n",
       "      <td>Jumanji (1995)</td>\n",
       "      <td>Adventure Children Fantasy</td>\n",
       "      <td>1</td>\n",
       "      <td>3.5</td>\n",
       "      <td>1112486027</td>\n",
       "      <td>0</td>\n",
       "      <td>{time travel adapted from:book board game chil...</td>\n",
       "      <td>{time travel adapted from:book board game chil...</td>\n",
       "    </tr>\n",
       "    <tr>\n",
       "      <th>1</th>\n",
       "      <td>City of Lost Children, The (Cité des enfants p...</td>\n",
       "      <td>Adventure Drama Fantasy Mystery SciFi</td>\n",
       "      <td>1</td>\n",
       "      <td>3.5</td>\n",
       "      <td>1112484676</td>\n",
       "      <td>1</td>\n",
       "      <td>{children Santa Claus dystopia abused children...</td>\n",
       "      <td>{children Santa Claus dystopia abused children...</td>\n",
       "    </tr>\n",
       "    <tr>\n",
       "      <th>2</th>\n",
       "      <td>Twelve Monkeys (a.k.a. 12 Monkeys) (1995)</td>\n",
       "      <td>Mystery SciFi Thriller</td>\n",
       "      <td>1</td>\n",
       "      <td>3.5</td>\n",
       "      <td>1112484819</td>\n",
       "      <td>2</td>\n",
       "      <td>{post-apocalyptic psychology time travel Brad ...</td>\n",
       "      <td>{post-apocalyptic psychology time travel Brad ...</td>\n",
       "    </tr>\n",
       "  </tbody>\n",
       "</table>\n",
       "</div>"
      ],
      "text/plain": [
       "                                               title  \\\n",
       "0                                     Jumanji (1995)   \n",
       "1  City of Lost Children, The (Cité des enfants p...   \n",
       "2          Twelve Monkeys (a.k.a. 12 Monkeys) (1995)   \n",
       "\n",
       "                                  genres  userId  rating   timestamp  movieId  \\\n",
       "0             Adventure Children Fantasy       1     3.5  1112486027        0   \n",
       "1  Adventure Drama Fantasy Mystery SciFi       1     3.5  1112484676        1   \n",
       "2                 Mystery SciFi Thriller       1     3.5  1112484819        2   \n",
       "\n",
       "                                                 tag  \\\n",
       "0  {time travel adapted from:book board game chil...   \n",
       "1  {children Santa Claus dystopia abused children...   \n",
       "2  {post-apocalyptic psychology time travel Brad ...   \n",
       "\n",
       "                                            document  \n",
       "0  {time travel adapted from:book board game chil...  \n",
       "1  {children Santa Claus dystopia abused children...  \n",
       "2  {post-apocalyptic psychology time travel Brad ...  "
      ]
     },
     "execution_count": 9,
     "metadata": {},
     "output_type": "execute_result"
    }
   ],
   "source": [
    "# add genres to document\n",
    "tags = pd.merge(movies, tags, left_index=True, right_on='movieId', how='right')\n",
    "tags['document'] = tags[['tag', 'genres']].apply(lambda x: ' '.join(x), axis=1)\n",
    "tags.head(3)"
   ]
  },
  {
   "cell_type": "code",
   "execution_count": 10,
   "metadata": {},
   "outputs": [
    {
     "data": {
      "text/plain": [
       "array([\"{serial killer based on a true story serial killer; based on a true story long obsession serial killer based on a true story serial killer crime David Fincher investigation investigative journalism Jake Gyllenhaal long Mark Ruffalo Robert Downey Jr. serial killer slow Too long based on a true story detective investigation Journalist obsession David Fincher Jake Gyllenhaal Mark Ruffalo Robert Downey Jr bad ending Jake Gyllenhaal length Robert Downey Jr adapted from:true story based on a true story ChloÃ« Sevigny David Fincher detective great character development investigative journalism Jake Gyllenhaal John Carroll Lynch long Mark Ruffalo mind games obsession Robert Downey Jr. serial killer police based on a true story detective investigation police serial killer based on a true story Robert Downey Jr serial killer Too long true story cinematography David Fincher stylized investigative journalism obsession police police based on a true story based on a true story crime obsession serial killer based on a true story David Fincher detective investigation Jake Gyllenhaal Journalist Robert Downey Jr Robert Downey Jr. true story based on a true story David Fincher Robert Downey Jr Robert Downey Jr. serial killer true story unresolved police based on a true story police BGAB LRC Bob*ola police police stylized Too long bad ending based on a true story David Fincher investigation Jake Gyllenhaal obsession Robert Downey Jr. serial killer stylized police David Fincher investigation obsession unresolved police police David Fincher detective investigation obsession serial killer based on a true story crime David Fincher Jake Gyllenhaal Mark Ruffalo Robert Downey Jr. stylized suspense investigative journalism long slow police serial killer uninteresting 3.5 Robert Downey Jr David Fincher Jake Gyllenhaal Robert Downey Jr. Too long toplist07 police 3.5 police David Fincher cinematographer:Harris Savides serial killer stylized David Fincher Robert Downey Jr. serial killer Too long ummarti2007 Jake Gyllenhaal Mark Ruffalo Robert Downey Jr. based on a true story obsession Too long based on a true story cinematography crime David Fincher investigation investigative journalism obsession stylized police detective Journalist serial killer true story bad ending based on a true story crime David Fincher detective investigative journalism Jake Gyllenhaal long Robert Downey Jr. slow stylized Too long unresolved police director's cut Chloe Sevigny based on a true story detective Jake Gyllenhaal Robert Downey Jr Robert Downey Jr. serial killer true story serial killer Robert Downey Jr. based on a true story mind games serial killer slow Too long R based on a true story Robert Downey Jr. Too long serial killer police owned police police bad ending long slow ending was good generally like the movie mark buffalo not too bad but rdjr ' s character was got little under my expectations. Anthony Edwards based on a true story investigation serial killer true story unresolved based on a true story crime investigation obsession police serial killer David Fincher Robert Downey Jr. serial killer bad ending based on a true story Jake Gyllenhaal long Mark Ruffalo obsession serial killer cinematography David Fincher directing editing obsession David Fincher erlend's DVDs David Fincher Robert Downey Jr. based on a true story Jake Gyllenhaal Robert Downey Jr. ClearPlay R police based on a true story David Fincher Ending Investigation Too Long Tumey's DVDs Mark Ruffalo Too long} Crime Drama Thriller\"],\n",
       "      dtype=object)"
      ]
     },
     "execution_count": 10,
     "metadata": {},
     "output_type": "execute_result"
    }
   ],
   "source": [
    "tags.query('title == \"Zodiac (2007)\"').document.values"
   ]
  },
  {
   "cell_type": "code",
   "execution_count": 11,
   "metadata": {},
   "outputs": [
    {
     "data": {
      "text/html": [
       "<div>\n",
       "<style scoped>\n",
       "    .dataframe tbody tr th:only-of-type {\n",
       "        vertical-align: middle;\n",
       "    }\n",
       "\n",
       "    .dataframe tbody tr th {\n",
       "        vertical-align: top;\n",
       "    }\n",
       "\n",
       "    .dataframe thead th {\n",
       "        text-align: right;\n",
       "    }\n",
       "</style>\n",
       "<table border=\"1\" class=\"dataframe\">\n",
       "  <thead>\n",
       "    <tr style=\"text-align: right;\">\n",
       "      <th></th>\n",
       "      <th>title</th>\n",
       "      <th>genres</th>\n",
       "      <th>userId</th>\n",
       "      <th>rating</th>\n",
       "      <th>timestamp</th>\n",
       "      <th>movieId</th>\n",
       "      <th>tag</th>\n",
       "      <th>document</th>\n",
       "    </tr>\n",
       "  </thead>\n",
       "  <tbody>\n",
       "    <tr>\n",
       "      <th>19849</th>\n",
       "      <td>Waiting Game, The (2000)</td>\n",
       "      <td>Comedy</td>\n",
       "      <td>29879</td>\n",
       "      <td>2.5</td>\n",
       "      <td>1161368462</td>\n",
       "      <td>19849</td>\n",
       "      <td>{}</td>\n",
       "      <td>{} Comedy</td>\n",
       "    </tr>\n",
       "  </tbody>\n",
       "</table>\n",
       "</div>"
      ],
      "text/plain": [
       "                          title  genres  userId  rating   timestamp  movieId  \\\n",
       "19849  Waiting Game, The (2000)  Comedy   29879     2.5  1161368462    19849   \n",
       "\n",
       "      tag   document  \n",
       "19849  {}  {} Comedy  "
      ]
     },
     "execution_count": 11,
     "metadata": {},
     "output_type": "execute_result"
    }
   ],
   "source": [
    "tags.query('movieId == 19849')"
   ]
  },
  {
   "cell_type": "markdown",
   "metadata": {},
   "source": [
    "# Item-User Collaborative Filtering"
   ]
  },
  {
   "cell_type": "code",
   "execution_count": 12,
   "metadata": {},
   "outputs": [
    {
     "name": "stderr",
     "output_type": "stream",
     "text": [
      "/anaconda3/envs/my-movie-recommender/lib/python3.6/site-packages/sklearn/cross_validation.py:41: DeprecationWarning: This module was deprecated in version 0.18 in favor of the model_selection module into which all the refactored classes and functions are moved. Also note that the interface of the new CV iterators are different from that of this module. This module will be removed in 0.20.\n",
      "  \"This module will be removed in 0.20.\", DeprecationWarning)\n"
     ]
    }
   ],
   "source": [
    "from scipy.sparse import csr_matrix\n",
    "from scipy.sparse.linalg import svds\n",
    "from sklearn import cross_validation as cv"
   ]
  },
  {
   "cell_type": "code",
   "execution_count": 13,
   "metadata": {},
   "outputs": [
    {
     "name": "stdout",
     "output_type": "stream",
     "text": [
      "(20000263, 6)\n",
      "There are 138493 users.\n",
      "There are 26744 movies.\n"
     ]
    },
    {
     "data": {
      "text/html": [
       "<div>\n",
       "<style scoped>\n",
       "    .dataframe tbody tr th:only-of-type {\n",
       "        vertical-align: middle;\n",
       "    }\n",
       "\n",
       "    .dataframe tbody tr th {\n",
       "        vertical-align: top;\n",
       "    }\n",
       "\n",
       "    .dataframe thead th {\n",
       "        text-align: right;\n",
       "    }\n",
       "</style>\n",
       "<table border=\"1\" class=\"dataframe\">\n",
       "  <thead>\n",
       "    <tr style=\"text-align: right;\">\n",
       "      <th></th>\n",
       "      <th>movieId</th>\n",
       "      <th>title</th>\n",
       "      <th>genres</th>\n",
       "      <th>userId</th>\n",
       "      <th>rating</th>\n",
       "      <th>timestamp</th>\n",
       "    </tr>\n",
       "  </thead>\n",
       "  <tbody>\n",
       "    <tr>\n",
       "      <th>0</th>\n",
       "      <td>227</td>\n",
       "      <td>Toy Story (1995)</td>\n",
       "      <td>Adventure|Animation|Children|Comedy|Fantasy</td>\n",
       "      <td>3</td>\n",
       "      <td>4.0</td>\n",
       "      <td>944919407</td>\n",
       "    </tr>\n",
       "    <tr>\n",
       "      <th>1</th>\n",
       "      <td>227</td>\n",
       "      <td>Toy Story (1995)</td>\n",
       "      <td>Adventure|Animation|Children|Comedy|Fantasy</td>\n",
       "      <td>6</td>\n",
       "      <td>5.0</td>\n",
       "      <td>858275452</td>\n",
       "    </tr>\n",
       "    <tr>\n",
       "      <th>2</th>\n",
       "      <td>227</td>\n",
       "      <td>Toy Story (1995)</td>\n",
       "      <td>Adventure|Animation|Children|Comedy|Fantasy</td>\n",
       "      <td>8</td>\n",
       "      <td>4.0</td>\n",
       "      <td>833981871</td>\n",
       "    </tr>\n",
       "    <tr>\n",
       "      <th>3</th>\n",
       "      <td>227</td>\n",
       "      <td>Toy Story (1995)</td>\n",
       "      <td>Adventure|Animation|Children|Comedy|Fantasy</td>\n",
       "      <td>10</td>\n",
       "      <td>4.0</td>\n",
       "      <td>943497887</td>\n",
       "    </tr>\n",
       "    <tr>\n",
       "      <th>4</th>\n",
       "      <td>227</td>\n",
       "      <td>Toy Story (1995)</td>\n",
       "      <td>Adventure|Animation|Children|Comedy|Fantasy</td>\n",
       "      <td>11</td>\n",
       "      <td>4.5</td>\n",
       "      <td>1230858821</td>\n",
       "    </tr>\n",
       "  </tbody>\n",
       "</table>\n",
       "</div>"
      ],
      "text/plain": [
       "   movieId             title                                       genres  \\\n",
       "0      227  Toy Story (1995)  Adventure|Animation|Children|Comedy|Fantasy   \n",
       "1      227  Toy Story (1995)  Adventure|Animation|Children|Comedy|Fantasy   \n",
       "2      227  Toy Story (1995)  Adventure|Animation|Children|Comedy|Fantasy   \n",
       "3      227  Toy Story (1995)  Adventure|Animation|Children|Comedy|Fantasy   \n",
       "4      227  Toy Story (1995)  Adventure|Animation|Children|Comedy|Fantasy   \n",
       "\n",
       "   userId  rating   timestamp  \n",
       "0       3     4.0   944919407  \n",
       "1       6     5.0   858275452  \n",
       "2       8     4.0   833981871  \n",
       "3      10     4.0   943497887  \n",
       "4      11     4.5  1230858821  "
      ]
     },
     "execution_count": 13,
     "metadata": {},
     "output_type": "execute_result"
    }
   ],
   "source": [
    "ratings = pd.read_csv(os.path.join(cwd, \"..\", \"data\", \"ratings.csv\"))\n",
    "movies = pd.read_csv(os.path.join(cwd, \"..\", \"data\", \"movies.csv\"))\n",
    "ratings = pd.merge(movies, ratings, on=\"movieId\", how=\"right\")\n",
    "ratings.movieId = ratings.movieId.apply(lambda x: movie2idx[x])\n",
    "print(ratings.shape)\n",
    "print(\"There are {} users.\".format(len(ratings.userId.unique())))\n",
    "print(\"There are {} movies.\".format(len(ratings.movieId.unique())))\n",
    "ratings.head()"
   ]
  },
  {
   "cell_type": "code",
   "execution_count": null,
   "metadata": {},
   "outputs": [],
   "source": [
    "train, test = cv.train_test_split(ratings, test_size=0.2)\n",
    "\n",
    "#drop users and movies from test that aren't in train\n",
    "c = list(set(test.movieId).intersection(train.movieId))\n",
    "test = test[test['movieId'].isin(c)]\n",
    "c = list(set(test.userId).intersection(train.userId))\n",
    "test = test[test['userId'].isin(c)]\n",
    "\n",
    "#Put those observations back in train\n",
    "t = test.index\n",
    "train = ratings.loc[~ratings.index.isin(t)]\n",
    "\n",
    "print(\"There are {} observations in train.\".format(train.shape[0]))\n",
    "print(\"There are {}  observations in test.\".format(test.shape[0]))\n",
    "train.head()"
   ]
  },
  {
   "cell_type": "code",
   "execution_count": null,
   "metadata": {},
   "outputs": [],
   "source": [
    "train = train.pivot(index = 'userId', columns ='movieId', values = 'rating').fillna(0)\n",
    "user_index = train.index.tolist()\n",
    "movie_index = train.columns.tolist()\n",
    "print(train.shape)\n",
    "train.head()"
   ]
  },
  {
   "cell_type": "code",
   "execution_count": null,
   "metadata": {},
   "outputs": [],
   "source": [
    "train = csr_matrix(train.values)\n",
    "train"
   ]
  },
  {
   "cell_type": "code",
   "execution_count": null,
   "metadata": {
    "collapsed": true
   },
   "outputs": [],
   "source": [
    "U, sigma, Vt = svds(train, k=100) # k is the number of factors\n",
    "sigma = np.diag(sigma)"
   ]
  },
  {
   "cell_type": "code",
   "execution_count": null,
   "metadata": {
    "collapsed": true
   },
   "outputs": [],
   "source": [
    "predicted_ratings = np.dot(np.dot(U, sigma), Vt) "
   ]
  },
  {
   "cell_type": "code",
   "execution_count": null,
   "metadata": {},
   "outputs": [],
   "source": [
    "predicted_ratings = pd.DataFrame(predicted_ratings, index=user_index, columns=movie_index)\n",
    "predicted_ratings = predicted_ratings.astype('int')\n",
    "predicted_ratings.head(4)"
   ]
  },
  {
   "cell_type": "code",
   "execution_count": null,
   "metadata": {
    "collapsed": true
   },
   "outputs": [],
   "source": [
    "predicted_ratings.to_pickle(\"collaborative_item_to_user_model.pkl\")"
   ]
  },
  {
   "cell_type": "code",
   "execution_count": null,
   "metadata": {},
   "outputs": [],
   "source": [
    "predicted_ratings.loc[1].max()"
   ]
  },
  {
   "cell_type": "code",
   "execution_count": null,
   "metadata": {},
   "outputs": [],
   "source": [
    "test"
   ]
  },
  {
   "cell_type": "code",
   "execution_count": null,
   "metadata": {
    "collapsed": true
   },
   "outputs": [],
   "source": [
    "#Find a popular movie and look at precision and recall\n",
    "#Find a niche movie and look at precision and recall\n",
    "\n",
    "#Find average precision and recall for the head\n",
    "#Find average precision and recall for the tail. \n",
    "\n",
    "#make mar@k and map@k plots"
   ]
  }
 ],
 "metadata": {
  "kernelspec": {
   "display_name": "my-movie-recommender",
   "language": "python",
   "name": "my-movie-recommender"
  },
  "language_info": {
   "codemirror_mode": {
    "name": "ipython",
    "version": 3
   },
   "file_extension": ".py",
   "mimetype": "text/x-python",
   "name": "python",
   "nbconvert_exporter": "python",
   "pygments_lexer": "ipython3",
   "version": "3.6.5"
  },
  "toc": {
   "colors": {
    "hover_highlight": "#DAA520",
    "navigate_num": "#000000",
    "navigate_text": "#333333",
    "running_highlight": "#FF0000",
    "selected_highlight": "#FFD700",
    "sidebar_border": "#EEEEEE",
    "wrapper_background": "#FFFFFF"
   },
   "moveMenuLeft": true,
   "nav_menu": {
    "height": "11px",
    "width": "252px"
   },
   "navigate_menu": true,
   "number_sections": true,
   "sideBar": true,
   "skip_h1_title": false,
   "threshold": 4,
   "toc_cell": false,
   "toc_section_display": "block",
   "toc_window_display": false,
   "widenNotebook": false
  }
 },
 "nbformat": 4,
 "nbformat_minor": 2
}
