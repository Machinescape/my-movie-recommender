{
 "cells": [
  {
   "cell_type": "code",
   "execution_count": 1,
   "metadata": {},
   "outputs": [
    {
     "data": {
      "text/html": [
       "<style>.container { width:80% !important; }</style>"
      ],
      "text/plain": [
       "<IPython.core.display.HTML object>"
      ]
     },
     "metadata": {},
     "output_type": "display_data"
    }
   ],
   "source": [
    "import numpy as np\n",
    "import pandas as pd\n",
    "import os\n",
    "import sys\n",
    "import pickle\n",
    "import time\n",
    "import datetime\n",
    "import matplotlib.pyplot as plt\n",
    "import seaborn as sns\n",
    "from importlib import reload\n",
    "%matplotlib inline\n",
    "from IPython.core.display import display, HTML, clear_output\n",
    "display(HTML(\"<style>.container { width:80% !important; }</style>\")) "
   ]
  },
  {
   "cell_type": "code",
   "execution_count": 2,
   "metadata": {},
   "outputs": [],
   "source": [
    "import os; import sys\n",
    "cwd = os.getcwd()\n",
    "path = os.path.join(cwd, '..', 'movie_recommender')\n",
    "if not path in sys.path:\n",
    "    sys.path.append(path)\n",
    "del cwd, path\n",
    "\n",
    "from similarity import SimilarityPredictions\n",
    "from collaborative_filtering import CollaborativeFiltering\n",
    "from content_filtering import ContentFiltering"
   ]
  },
  {
   "cell_type": "markdown",
   "metadata": {},
   "source": [
    "# Load Tags Data"
   ]
  },
  {
   "cell_type": "code",
   "execution_count": 3,
   "metadata": {},
   "outputs": [],
   "source": [
    "# Load index mapping \n",
    "with open('../data/movie_to_idx.pkl', 'rb') as handle:\n",
    "    movie2idx = pickle.load(handle)"
   ]
  },
  {
   "cell_type": "code",
   "execution_count": 4,
   "metadata": {},
   "outputs": [
    {
     "name": "stdout",
     "output_type": "stream",
     "text": [
      "19545 unique movies in tags.csv\n",
      "26744 unique movies in ratings.csv\n"
     ]
    }
   ],
   "source": [
    "#load tags and ratings data\n",
    "cwd = os.getcwd()\n",
    "tags = pd.read_csv(os.path.join(cwd, \"..\", \"data/ml-20m\", \"tags.csv\"))\n",
    "print(\"{} unique movies in tags.csv\".format(len(tags.movieId.unique())))\n",
    "ratings = pd.read_csv(os.path.join(cwd, \"..\", \"data/ml-20m\", \"ratings.csv\"))\n",
    "ratings = ratings.drop_duplicates('movieId')\n",
    "print(\"{} unique movies in ratings.csv\".format(len(ratings.movieId.unique())))"
   ]
  },
  {
   "cell_type": "code",
   "execution_count": 5,
   "metadata": {},
   "outputs": [
    {
     "name": "stdout",
     "output_type": "stream",
     "text": [
      "26744 unique movies in tags.csv\n",
      "(472537, 7)\n"
     ]
    },
    {
     "data": {
      "text/html": [
       "<div>\n",
       "<style scoped>\n",
       "    .dataframe tbody tr th:only-of-type {\n",
       "        vertical-align: middle;\n",
       "    }\n",
       "\n",
       "    .dataframe tbody tr th {\n",
       "        vertical-align: top;\n",
       "    }\n",
       "\n",
       "    .dataframe thead th {\n",
       "        text-align: right;\n",
       "    }\n",
       "</style>\n",
       "<table border=\"1\" class=\"dataframe\">\n",
       "  <thead>\n",
       "    <tr style=\"text-align: right;\">\n",
       "      <th></th>\n",
       "      <th>userId_x</th>\n",
       "      <th>movieId</th>\n",
       "      <th>tag</th>\n",
       "      <th>timestamp_x</th>\n",
       "      <th>userId_y</th>\n",
       "      <th>rating</th>\n",
       "      <th>timestamp_y</th>\n",
       "    </tr>\n",
       "  </thead>\n",
       "  <tbody>\n",
       "    <tr>\n",
       "      <th>0</th>\n",
       "      <td>18.0</td>\n",
       "      <td>3135</td>\n",
       "      <td>Mark Waters</td>\n",
       "      <td>1.240597e+09</td>\n",
       "      <td>103</td>\n",
       "      <td>3.5</td>\n",
       "      <td>1055018362</td>\n",
       "    </tr>\n",
       "    <tr>\n",
       "      <th>1</th>\n",
       "      <td>66193.0</td>\n",
       "      <td>3135</td>\n",
       "      <td>naive</td>\n",
       "      <td>1.294446e+09</td>\n",
       "      <td>103</td>\n",
       "      <td>3.5</td>\n",
       "      <td>1055018362</td>\n",
       "    </tr>\n",
       "    <tr>\n",
       "      <th>2</th>\n",
       "      <td>70201.0</td>\n",
       "      <td>3135</td>\n",
       "      <td>Mark Waters</td>\n",
       "      <td>1.308333e+09</td>\n",
       "      <td>103</td>\n",
       "      <td>3.5</td>\n",
       "      <td>1055018362</td>\n",
       "    </tr>\n",
       "    <tr>\n",
       "      <th>3</th>\n",
       "      <td>89274.0</td>\n",
       "      <td>3135</td>\n",
       "      <td>Freddie Prinze Jr.</td>\n",
       "      <td>1.375164e+09</td>\n",
       "      <td>103</td>\n",
       "      <td>3.5</td>\n",
       "      <td>1055018362</td>\n",
       "    </tr>\n",
       "    <tr>\n",
       "      <th>4</th>\n",
       "      <td>65.0</td>\n",
       "      <td>639</td>\n",
       "      <td>dark hero</td>\n",
       "      <td>1.368150e+09</td>\n",
       "      <td>8</td>\n",
       "      <td>3.0</td>\n",
       "      <td>833981834</td>\n",
       "    </tr>\n",
       "  </tbody>\n",
       "</table>\n",
       "</div>"
      ],
      "text/plain": [
       "   userId_x  movieId                 tag   timestamp_x  userId_y  rating  \\\n",
       "0      18.0     3135         Mark Waters  1.240597e+09       103     3.5   \n",
       "1   66193.0     3135               naive  1.294446e+09       103     3.5   \n",
       "2   70201.0     3135         Mark Waters  1.308333e+09       103     3.5   \n",
       "3   89274.0     3135  Freddie Prinze Jr.  1.375164e+09       103     3.5   \n",
       "4      65.0      639           dark hero  1.368150e+09         8     3.0   \n",
       "\n",
       "   timestamp_y  \n",
       "0   1055018362  \n",
       "1   1055018362  \n",
       "2   1055018362  \n",
       "3   1055018362  \n",
       "4    833981834  "
      ]
     },
     "execution_count": 5,
     "metadata": {},
     "output_type": "execute_result"
    }
   ],
   "source": [
    "#map movie index for tags data\n",
    "tags = pd.merge(tags, ratings, on=\"movieId\", how=\"right\")\n",
    "tags.movieId = tags.movieId.apply(lambda x: movie2idx[x])\n",
    "print(\"{} unique movies in tags.csv\".format(len(tags.movieId.unique())))\n",
    "print(tags.shape)\n",
    "tags.head()"
   ]
  },
  {
   "cell_type": "code",
   "execution_count": 6,
   "metadata": {},
   "outputs": [
    {
     "name": "stdout",
     "output_type": "stream",
     "text": [
      "27278 unique movies in movies.csv\n",
      "26744 unique movies in ratings.csv\n",
      "26744 unique movies in movies.csv\n"
     ]
    },
    {
     "data": {
      "text/html": [
       "<div>\n",
       "<style scoped>\n",
       "    .dataframe tbody tr th:only-of-type {\n",
       "        vertical-align: middle;\n",
       "    }\n",
       "\n",
       "    .dataframe tbody tr th {\n",
       "        vertical-align: top;\n",
       "    }\n",
       "\n",
       "    .dataframe thead th {\n",
       "        text-align: right;\n",
       "    }\n",
       "</style>\n",
       "<table border=\"1\" class=\"dataframe\">\n",
       "  <thead>\n",
       "    <tr style=\"text-align: right;\">\n",
       "      <th></th>\n",
       "      <th>title</th>\n",
       "      <th>genres</th>\n",
       "      <th>userId</th>\n",
       "      <th>rating</th>\n",
       "      <th>timestamp</th>\n",
       "    </tr>\n",
       "    <tr>\n",
       "      <th>movieId</th>\n",
       "      <th></th>\n",
       "      <th></th>\n",
       "      <th></th>\n",
       "      <th></th>\n",
       "      <th></th>\n",
       "    </tr>\n",
       "  </thead>\n",
       "  <tbody>\n",
       "    <tr>\n",
       "      <th>3006</th>\n",
       "      <td>Primer (2004)</td>\n",
       "      <td>Drama SciFi</td>\n",
       "      <td>96</td>\n",
       "      <td>4.5</td>\n",
       "      <td>1402187423</td>\n",
       "    </tr>\n",
       "  </tbody>\n",
       "</table>\n",
       "</div>"
      ],
      "text/plain": [
       "                 title       genres  userId  rating   timestamp\n",
       "movieId                                                        \n",
       "3006     Primer (2004)  Drama SciFi      96     4.5  1402187423"
      ]
     },
     "execution_count": 6,
     "metadata": {},
     "output_type": "execute_result"
    }
   ],
   "source": [
    "#map movie index for movie data\n",
    "movies = pd.read_csv(os.path.join(cwd, \"..\", \"data/ml-20m\", \"movies.csv\"))\n",
    "print(\"{} unique movies in movies.csv\".format(len(movies.movieId.unique())))\n",
    "print(\"{} unique movies in ratings.csv\".format(len(ratings.movieId.unique())))\n",
    "\n",
    "movies = pd.merge(movies, ratings, on=\"movieId\", how=\"inner\")\n",
    "movies.movieId = movies.movieId.apply(lambda x: movie2idx[x])\n",
    "print(\"{} unique movies in movies.csv\".format(len(movies.movieId.unique())))\n",
    "\n",
    "movies.set_index('movieId', inplace=True)\n",
    "movies['genres'] = movies['genres'].str.replace(pat=\"|\", repl=\" \")\n",
    "movies['genres'] = movies['genres'].str.replace(pat=\"-\", repl=\"\")\n",
    "movies.query('title == \"Primer (2004)\"')"
   ]
  },
  {
   "cell_type": "code",
   "execution_count": 7,
   "metadata": {
    "scrolled": true
   },
   "outputs": [
    {
     "data": {
      "text/plain": [
       "<matplotlib.axes._subplots.AxesSubplot at 0x7f7f7d81ea20>"
      ]
     },
     "execution_count": 7,
     "metadata": {},
     "output_type": "execute_result"
    },
    {
     "data": {
      "image/png": "[encoded data removed]",
      "text/plain": [
       "<Figure size 432x288 with 1 Axes>"
      ]
     },
     "metadata": {},
     "output_type": "display_data"
    }
   ],
   "source": [
    "tags.tag.value_counts().hist(bins=50)"
   ]
  },
  {
   "cell_type": "code",
   "execution_count": 8,
   "metadata": {},
   "outputs": [
    {
     "name": "stdout",
     "output_type": "stream",
     "text": [
      "There are 26744 unique movies\n"
     ]
    },
    {
     "data": {
      "text/html": [
       "<div>\n",
       "<style scoped>\n",
       "    .dataframe tbody tr th:only-of-type {\n",
       "        vertical-align: middle;\n",
       "    }\n",
       "\n",
       "    .dataframe tbody tr th {\n",
       "        vertical-align: top;\n",
       "    }\n",
       "\n",
       "    .dataframe thead th {\n",
       "        text-align: right;\n",
       "    }\n",
       "</style>\n",
       "<table border=\"1\" class=\"dataframe\">\n",
       "  <thead>\n",
       "    <tr style=\"text-align: right;\">\n",
       "      <th></th>\n",
       "      <th>movieId</th>\n",
       "      <th>tag</th>\n",
       "    </tr>\n",
       "  </thead>\n",
       "  <tbody>\n",
       "    <tr>\n",
       "      <th>12458</th>\n",
       "      <td>12458</td>\n",
       "      <td>{Edward Dmytryk should like}</td>\n",
       "    </tr>\n",
       "    <tr>\n",
       "      <th>18823</th>\n",
       "      <td>18823</td>\n",
       "      <td>{}</td>\n",
       "    </tr>\n",
       "    <tr>\n",
       "      <th>18243</th>\n",
       "      <td>18243</td>\n",
       "      <td>{Full Moon Entertainment gore practical FX vam...</td>\n",
       "    </tr>\n",
       "    <tr>\n",
       "      <th>16052</th>\n",
       "      <td>16052</td>\n",
       "      <td>{}</td>\n",
       "    </tr>\n",
       "    <tr>\n",
       "      <th>25148</th>\n",
       "      <td>25148</td>\n",
       "      <td>{}</td>\n",
       "    </tr>\n",
       "    <tr>\n",
       "      <th>20566</th>\n",
       "      <td>20566</td>\n",
       "      <td>{DVD-Video}</td>\n",
       "    </tr>\n",
       "    <tr>\n",
       "      <th>12718</th>\n",
       "      <td>12718</td>\n",
       "      <td>{Betamax}</td>\n",
       "    </tr>\n",
       "    <tr>\n",
       "      <th>635</th>\n",
       "      <td>635</td>\n",
       "      <td>{chick flick chick flick Sean Connery Arthuria...</td>\n",
       "    </tr>\n",
       "    <tr>\n",
       "      <th>16489</th>\n",
       "      <td>16489</td>\n",
       "      <td>{}</td>\n",
       "    </tr>\n",
       "    <tr>\n",
       "      <th>9124</th>\n",
       "      <td>9124</td>\n",
       "      <td>{virginity}</td>\n",
       "    </tr>\n",
       "  </tbody>\n",
       "</table>\n",
       "</div>"
      ],
      "text/plain": [
       "       movieId                                                tag\n",
       "12458    12458                       {Edward Dmytryk should like}\n",
       "18823    18823                                                 {}\n",
       "18243    18243  {Full Moon Entertainment gore practical FX vam...\n",
       "16052    16052                                                 {}\n",
       "25148    25148                                                 {}\n",
       "20566    20566                                        {DVD-Video}\n",
       "12718    12718                                          {Betamax}\n",
       "635        635  {chick flick chick flick Sean Connery Arthuria...\n",
       "16489    16489                                                 {}\n",
       "9124      9124                                        {virginity}"
      ]
     },
     "execution_count": 8,
     "metadata": {},
     "output_type": "execute_result"
    }
   ],
   "source": [
    "#create documents from tags\n",
    "tags.fillna(\"\", inplace=True)\n",
    "tags = pd.DataFrame(tags.groupby('movieId')['tag'].apply(lambda x: \"{%s}\" % ' '.join(x)))\n",
    "tags.reset_index(inplace=True)\n",
    "movie_id = tags.movieId\n",
    "print(\"There are {} unique movies\".format(len(movie_id)))\n",
    "tags.sample(10)"
   ]
  },
  {
   "cell_type": "code",
   "execution_count": 9,
   "metadata": {},
   "outputs": [
    {
     "data": {
      "text/html": [
       "<div>\n",
       "<style scoped>\n",
       "    .dataframe tbody tr th:only-of-type {\n",
       "        vertical-align: middle;\n",
       "    }\n",
       "\n",
       "    .dataframe tbody tr th {\n",
       "        vertical-align: top;\n",
       "    }\n",
       "\n",
       "    .dataframe thead th {\n",
       "        text-align: right;\n",
       "    }\n",
       "</style>\n",
       "<table border=\"1\" class=\"dataframe\">\n",
       "  <thead>\n",
       "    <tr style=\"text-align: right;\">\n",
       "      <th></th>\n",
       "      <th>title</th>\n",
       "      <th>genres</th>\n",
       "      <th>userId</th>\n",
       "      <th>rating</th>\n",
       "      <th>timestamp</th>\n",
       "      <th>movieId</th>\n",
       "      <th>tag</th>\n",
       "      <th>document</th>\n",
       "    </tr>\n",
       "  </thead>\n",
       "  <tbody>\n",
       "    <tr>\n",
       "      <th>0</th>\n",
       "      <td>Jumanji (1995)</td>\n",
       "      <td>Adventure Children Fantasy</td>\n",
       "      <td>1</td>\n",
       "      <td>3.5</td>\n",
       "      <td>1112486027</td>\n",
       "      <td>0</td>\n",
       "      <td>{time travel adapted from:book board game chil...</td>\n",
       "      <td>{time travel adapted from:book board game chil...</td>\n",
       "    </tr>\n",
       "    <tr>\n",
       "      <th>1</th>\n",
       "      <td>City of Lost Children, The (Cité des enfants p...</td>\n",
       "      <td>Adventure Drama Fantasy Mystery SciFi</td>\n",
       "      <td>1</td>\n",
       "      <td>3.5</td>\n",
       "      <td>1112484676</td>\n",
       "      <td>1</td>\n",
       "      <td>{children Santa Claus dystopia abused children...</td>\n",
       "      <td>{children Santa Claus dystopia abused children...</td>\n",
       "    </tr>\n",
       "    <tr>\n",
       "      <th>2</th>\n",
       "      <td>Twelve Monkeys (a.k.a. 12 Monkeys) (1995)</td>\n",
       "      <td>Mystery SciFi Thriller</td>\n",
       "      <td>1</td>\n",
       "      <td>3.5</td>\n",
       "      <td>1112484819</td>\n",
       "      <td>2</td>\n",
       "      <td>{post-apocalyptic psychology time travel Brad ...</td>\n",
       "      <td>{post-apocalyptic psychology time travel Brad ...</td>\n",
       "    </tr>\n",
       "  </tbody>\n",
       "</table>\n",
       "</div>"
      ],
      "text/plain": [
       "                                               title  \\\n",
       "0                                     Jumanji (1995)   \n",
       "1  City of Lost Children, The (Cité des enfants p...   \n",
       "2          Twelve Monkeys (a.k.a. 12 Monkeys) (1995)   \n",
       "\n",
       "                                  genres  userId  rating   timestamp  movieId  \\\n",
       "0             Adventure Children Fantasy       1     3.5  1112486027        0   \n",
       "1  Adventure Drama Fantasy Mystery SciFi       1     3.5  1112484676        1   \n",
       "2                 Mystery SciFi Thriller       1     3.5  1112484819        2   \n",
       "\n",
       "                                                 tag  \\\n",
       "0  {time travel adapted from:book board game chil...   \n",
       "1  {children Santa Claus dystopia abused children...   \n",
       "2  {post-apocalyptic psychology time travel Brad ...   \n",
       "\n",
       "                                            document  \n",
       "0  {time travel adapted from:book board game chil...  \n",
       "1  {children Santa Claus dystopia abused children...  \n",
       "2  {post-apocalyptic psychology time travel Brad ...  "
      ]
     },
     "execution_count": 9,
     "metadata": {},
     "output_type": "execute_result"
    }
   ],
   "source": [
    "# add genres to document\n",
    "tags = pd.merge(movies, tags, left_index=True, right_on='movieId', how='right')\n",
    "tags['document'] = tags[['tag', 'genres']].apply(lambda x: ' '.join(x), axis=1)\n",
    "tags.head(3)"
   ]
  },
  {
   "cell_type": "code",
   "execution_count": 10,
   "metadata": {},
   "outputs": [
    {
     "data": {
      "text/plain": [
       "array([\"{serial killer based on a true story serial killer; based on a true story long obsession serial killer based on a true story serial killer crime David Fincher investigation investigative journalism Jake Gyllenhaal long Mark Ruffalo Robert Downey Jr. serial killer slow Too long based on a true story detective investigation Journalist obsession David Fincher Jake Gyllenhaal Mark Ruffalo Robert Downey Jr bad ending Jake Gyllenhaal length Robert Downey Jr adapted from:true story based on a true story ChloÃ« Sevigny David Fincher detective great character development investigative journalism Jake Gyllenhaal John Carroll Lynch long Mark Ruffalo mind games obsession Robert Downey Jr. serial killer police based on a true story detective investigation police serial killer based on a true story Robert Downey Jr serial killer Too long true story cinematography David Fincher stylized investigative journalism obsession police police based on a true story based on a true story crime obsession serial killer based on a true story David Fincher detective investigation Jake Gyllenhaal Journalist Robert Downey Jr Robert Downey Jr. true story based on a true story David Fincher Robert Downey Jr Robert Downey Jr. serial killer true story unresolved police based on a true story police BGAB LRC Bob*ola police police stylized Too long bad ending based on a true story David Fincher investigation Jake Gyllenhaal obsession Robert Downey Jr. serial killer stylized police David Fincher investigation obsession unresolved police police David Fincher detective investigation obsession serial killer based on a true story crime David Fincher Jake Gyllenhaal Mark Ruffalo Robert Downey Jr. stylized suspense investigative journalism long slow police serial killer uninteresting 3.5 Robert Downey Jr David Fincher Jake Gyllenhaal Robert Downey Jr. Too long toplist07 police 3.5 police David Fincher cinematographer:Harris Savides serial killer stylized David Fincher Robert Downey Jr. serial killer Too long ummarti2007 Jake Gyllenhaal Mark Ruffalo Robert Downey Jr. based on a true story obsession Too long based on a true story cinematography crime David Fincher investigation investigative journalism obsession stylized police detective Journalist serial killer true story bad ending based on a true story crime David Fincher detective investigative journalism Jake Gyllenhaal long Robert Downey Jr. slow stylized Too long unresolved police director's cut Chloe Sevigny based on a true story detective Jake Gyllenhaal Robert Downey Jr Robert Downey Jr. serial killer true story serial killer Robert Downey Jr. based on a true story mind games serial killer slow Too long R based on a true story Robert Downey Jr. Too long serial killer police owned police police bad ending long slow ending was good generally like the movie mark buffalo not too bad but rdjr ' s character was got little under my expectations. Anthony Edwards based on a true story investigation serial killer true story unresolved based on a true story crime investigation obsession police serial killer David Fincher Robert Downey Jr. serial killer bad ending based on a true story Jake Gyllenhaal long Mark Ruffalo obsession serial killer cinematography David Fincher directing editing obsession David Fincher erlend's DVDs David Fincher Robert Downey Jr. based on a true story Jake Gyllenhaal Robert Downey Jr. ClearPlay R police based on a true story David Fincher Ending Investigation Too Long Tumey's DVDs Mark Ruffalo Too long} Crime Drama Thriller\"],\n",
       "      dtype=object)"
      ]
     },
     "execution_count": 10,
     "metadata": {},
     "output_type": "execute_result"
    }
   ],
   "source": [
    "tags.query('title == \"Zodiac (2007)\"').document.values"
   ]
  },
  {
   "cell_type": "code",
   "execution_count": 11,
   "metadata": {},
   "outputs": [
    {
     "data": {
      "text/html": [
       "<div>\n",
       "<style scoped>\n",
       "    .dataframe tbody tr th:only-of-type {\n",
       "        vertical-align: middle;\n",
       "    }\n",
       "\n",
       "    .dataframe tbody tr th {\n",
       "        vertical-align: top;\n",
       "    }\n",
       "\n",
       "    .dataframe thead th {\n",
       "        text-align: right;\n",
       "    }\n",
       "</style>\n",
       "<table border=\"1\" class=\"dataframe\">\n",
       "  <thead>\n",
       "    <tr style=\"text-align: right;\">\n",
       "      <th></th>\n",
       "      <th>title</th>\n",
       "      <th>genres</th>\n",
       "      <th>userId</th>\n",
       "      <th>rating</th>\n",
       "      <th>timestamp</th>\n",
       "      <th>movieId</th>\n",
       "      <th>tag</th>\n",
       "      <th>document</th>\n",
       "    </tr>\n",
       "  </thead>\n",
       "  <tbody>\n",
       "    <tr>\n",
       "      <th>19849</th>\n",
       "      <td>Waiting Game, The (2000)</td>\n",
       "      <td>Comedy</td>\n",
       "      <td>29879</td>\n",
       "      <td>2.5</td>\n",
       "      <td>1161368462</td>\n",
       "      <td>19849</td>\n",
       "      <td>{}</td>\n",
       "      <td>{} Comedy</td>\n",
       "    </tr>\n",
       "  </tbody>\n",
       "</table>\n",
       "</div>"
      ],
      "text/plain": [
       "                          title  genres  userId  rating   timestamp  movieId  \\\n",
       "19849  Waiting Game, The (2000)  Comedy   29879     2.5  1161368462    19849   \n",
       "\n",
       "      tag   document  \n",
       "19849  {}  {} Comedy  "
      ]
     },
     "execution_count": 11,
     "metadata": {},
     "output_type": "execute_result"
    }
   ],
   "source": [
    "tags.query('movieId == 19849')"
   ]
  },
  {
   "cell_type": "markdown",
   "metadata": {},
   "source": [
    "# Item-User Collaborative Filtering"
   ]
  },
  {
   "cell_type": "code",
   "execution_count": 12,
   "metadata": {},
   "outputs": [
    {
     "name": "stderr",
     "output_type": "stream",
     "text": [
      "/home/paperspace/miniconda3/envs/ana3/lib/python3.6/site-packages/sklearn/cross_validation.py:41: DeprecationWarning: This module was deprecated in version 0.18 in favor of the model_selection module into which all the refactored classes and functions are moved. Also note that the interface of the new CV iterators are different from that of this module. This module will be removed in 0.20.\n",
      "  \"This module will be removed in 0.20.\", DeprecationWarning)\n"
     ]
    }
   ],
   "source": [
    "from scipy.sparse import csr_matrix\n",
    "from scipy.sparse.linalg import svds\n",
    "from sklearn import cross_validation as cv"
   ]
  },
  {
   "cell_type": "code",
   "execution_count": 13,
   "metadata": {},
   "outputs": [
    {
     "name": "stdout",
     "output_type": "stream",
     "text": [
      "(20000263, 6)\n",
      "There are 138493 users.\n",
      "There are 26744 movies.\n"
     ]
    },
    {
     "data": {
      "text/html": [
       "<div>\n",
       "<style scoped>\n",
       "    .dataframe tbody tr th:only-of-type {\n",
       "        vertical-align: middle;\n",
       "    }\n",
       "\n",
       "    .dataframe tbody tr th {\n",
       "        vertical-align: top;\n",
       "    }\n",
       "\n",
       "    .dataframe thead th {\n",
       "        text-align: right;\n",
       "    }\n",
       "</style>\n",
       "<table border=\"1\" class=\"dataframe\">\n",
       "  <thead>\n",
       "    <tr style=\"text-align: right;\">\n",
       "      <th></th>\n",
       "      <th>movieId</th>\n",
       "      <th>title</th>\n",
       "      <th>genres</th>\n",
       "      <th>userId</th>\n",
       "      <th>rating</th>\n",
       "      <th>timestamp</th>\n",
       "    </tr>\n",
       "  </thead>\n",
       "  <tbody>\n",
       "    <tr>\n",
       "      <th>0</th>\n",
       "      <td>227</td>\n",
       "      <td>Toy Story (1995)</td>\n",
       "      <td>Adventure|Animation|Children|Comedy|Fantasy</td>\n",
       "      <td>3</td>\n",
       "      <td>4.0</td>\n",
       "      <td>944919407</td>\n",
       "    </tr>\n",
       "    <tr>\n",
       "      <th>1</th>\n",
       "      <td>227</td>\n",
       "      <td>Toy Story (1995)</td>\n",
       "      <td>Adventure|Animation|Children|Comedy|Fantasy</td>\n",
       "      <td>6</td>\n",
       "      <td>5.0</td>\n",
       "      <td>858275452</td>\n",
       "    </tr>\n",
       "    <tr>\n",
       "      <th>2</th>\n",
       "      <td>227</td>\n",
       "      <td>Toy Story (1995)</td>\n",
       "      <td>Adventure|Animation|Children|Comedy|Fantasy</td>\n",
       "      <td>8</td>\n",
       "      <td>4.0</td>\n",
       "      <td>833981871</td>\n",
       "    </tr>\n",
       "    <tr>\n",
       "      <th>3</th>\n",
       "      <td>227</td>\n",
       "      <td>Toy Story (1995)</td>\n",
       "      <td>Adventure|Animation|Children|Comedy|Fantasy</td>\n",
       "      <td>10</td>\n",
       "      <td>4.0</td>\n",
       "      <td>943497887</td>\n",
       "    </tr>\n",
       "    <tr>\n",
       "      <th>4</th>\n",
       "      <td>227</td>\n",
       "      <td>Toy Story (1995)</td>\n",
       "      <td>Adventure|Animation|Children|Comedy|Fantasy</td>\n",
       "      <td>11</td>\n",
       "      <td>4.5</td>\n",
       "      <td>1230858821</td>\n",
       "    </tr>\n",
       "  </tbody>\n",
       "</table>\n",
       "</div>"
      ],
      "text/plain": [
       "   movieId             title                                       genres  \\\n",
       "0      227  Toy Story (1995)  Adventure|Animation|Children|Comedy|Fantasy   \n",
       "1      227  Toy Story (1995)  Adventure|Animation|Children|Comedy|Fantasy   \n",
       "2      227  Toy Story (1995)  Adventure|Animation|Children|Comedy|Fantasy   \n",
       "3      227  Toy Story (1995)  Adventure|Animation|Children|Comedy|Fantasy   \n",
       "4      227  Toy Story (1995)  Adventure|Animation|Children|Comedy|Fantasy   \n",
       "\n",
       "   userId  rating   timestamp  \n",
       "0       3     4.0   944919407  \n",
       "1       6     5.0   858275452  \n",
       "2       8     4.0   833981871  \n",
       "3      10     4.0   943497887  \n",
       "4      11     4.5  1230858821  "
      ]
     },
     "execution_count": 13,
     "metadata": {},
     "output_type": "execute_result"
    }
   ],
   "source": [
    "ratings = pd.read_csv(os.path.join(cwd, \"..\", \"data/ml-20m\", \"ratings.csv\"))\n",
    "movies = pd.read_csv(os.path.join(cwd, \"..\", \"data/ml-20m\", \"movies.csv\"))\n",
    "ratings = pd.merge(movies, ratings, on=\"movieId\", how=\"right\")\n",
    "ratings.movieId = ratings.movieId.apply(lambda x: movie2idx[x])\n",
    "print(ratings.shape)\n",
    "print(\"There are {} users.\".format(len(ratings.userId.unique())))\n",
    "print(\"There are {} movies.\".format(len(ratings.movieId.unique())))\n",
    "ratings.head()"
   ]
  },
  {
   "cell_type": "code",
   "execution_count": 14,
   "metadata": {},
   "outputs": [
    {
     "name": "stdout",
     "output_type": "stream",
     "text": [
      "There are 103522 observations in train.\n",
      "There are 25501  observations in test.\n"
     ]
    },
    {
     "data": {
      "text/html": [
       "<div>\n",
       "<style scoped>\n",
       "    .dataframe tbody tr th:only-of-type {\n",
       "        vertical-align: middle;\n",
       "    }\n",
       "\n",
       "    .dataframe tbody tr th {\n",
       "        vertical-align: top;\n",
       "    }\n",
       "\n",
       "    .dataframe thead th {\n",
       "        text-align: right;\n",
       "    }\n",
       "</style>\n",
       "<table border=\"1\" class=\"dataframe\">\n",
       "  <thead>\n",
       "    <tr style=\"text-align: right;\">\n",
       "      <th></th>\n",
       "      <th>movieId</th>\n",
       "      <th>title</th>\n",
       "      <th>genres</th>\n",
       "      <th>userId</th>\n",
       "      <th>rating</th>\n",
       "      <th>timestamp</th>\n",
       "    </tr>\n",
       "  </thead>\n",
       "  <tbody>\n",
       "    <tr>\n",
       "      <th>17553880</th>\n",
       "      <td>8891</td>\n",
       "      <td>Fearless Vampire Killers, The (1967)</td>\n",
       "      <td>Comedy|Horror</td>\n",
       "      <td>11865</td>\n",
       "      <td>3.0</td>\n",
       "      <td>1233957696</td>\n",
       "    </tr>\n",
       "    <tr>\n",
       "      <th>6777811</th>\n",
       "      <td>40</td>\n",
       "      <td>Terminator, The (1984)</td>\n",
       "      <td>Action|Sci-Fi|Thriller</td>\n",
       "      <td>132948</td>\n",
       "      <td>4.0</td>\n",
       "      <td>887487084</td>\n",
       "    </tr>\n",
       "    <tr>\n",
       "      <th>8643981</th>\n",
       "      <td>3600</td>\n",
       "      <td>Home Alone 3 (1997)</td>\n",
       "      <td>Children|Comedy</td>\n",
       "      <td>37258</td>\n",
       "      <td>1.5</td>\n",
       "      <td>1200697882</td>\n",
       "    </tr>\n",
       "    <tr>\n",
       "      <th>4880374</th>\n",
       "      <td>2085</td>\n",
       "      <td>Escape from L.A. (1996)</td>\n",
       "      <td>Action|Adventure|Sci-Fi|Thriller</td>\n",
       "      <td>44111</td>\n",
       "      <td>1.5</td>\n",
       "      <td>1076119985</td>\n",
       "    </tr>\n",
       "    <tr>\n",
       "      <th>19053366</th>\n",
       "      <td>1007</td>\n",
       "      <td>WALL·E (2008)</td>\n",
       "      <td>Adventure|Animation|Children|Romance|Sci-Fi</td>\n",
       "      <td>64364</td>\n",
       "      <td>3.5</td>\n",
       "      <td>1392477537</td>\n",
       "    </tr>\n",
       "  </tbody>\n",
       "</table>\n",
       "</div>"
      ],
      "text/plain": [
       "          movieId                                 title  \\\n",
       "17553880     8891  Fearless Vampire Killers, The (1967)   \n",
       "6777811        40                Terminator, The (1984)   \n",
       "8643981      3600                   Home Alone 3 (1997)   \n",
       "4880374      2085               Escape from L.A. (1996)   \n",
       "19053366     1007                         WALL·E (2008)   \n",
       "\n",
       "                                               genres  userId  rating  \\\n",
       "17553880                                Comedy|Horror   11865     3.0   \n",
       "6777811                        Action|Sci-Fi|Thriller  132948     4.0   \n",
       "8643981                               Children|Comedy   37258     1.5   \n",
       "4880374              Action|Adventure|Sci-Fi|Thriller   44111     1.5   \n",
       "19053366  Adventure|Animation|Children|Romance|Sci-Fi   64364     3.5   \n",
       "\n",
       "           timestamp  \n",
       "17553880  1233957696  \n",
       "6777811    887487084  \n",
       "8643981   1200697882  \n",
       "4880374   1076119985  \n",
       "19053366  1392477537  "
      ]
     },
     "execution_count": 14,
     "metadata": {},
     "output_type": "execute_result"
    }
   ],
   "source": [
    "ratings = ratings.sample(200000)\n",
    "\n",
    "#remove users that rates less than 3 things. \n",
    "ratings = ratings.groupby('userId').filter(lambda x: len(x) >= 3)\n",
    "#remove movies that only occure once\n",
    "ratings = ratings.groupby('movieId').filter(lambda x: len(x) > 1)\n",
    "\n",
    "#do a test train split\n",
    "train, test = cv.train_test_split(ratings, test_size=0.2)\n",
    "\n",
    "#drop users and movies from test that aren't in train\n",
    "c = list(set(test.movieId).intersection(train.movieId))\n",
    "test = test[test['movieId'].isin(c)]\n",
    "c = list(set(test.userId).intersection(train.userId))\n",
    "test = test[test['userId'].isin(c)]\n",
    "\n",
    "print(\"There are {} observations in train.\".format(train.shape[0]))\n",
    "print(\"There are {}  observations in test.\".format(test.shape[0]))\n",
    "train.head()"
   ]
  },
  {
   "cell_type": "code",
   "execution_count": null,
   "metadata": {},
   "outputs": [],
   "source": [
    "train = train.pivot(index = 'userId', columns ='movieId', values = 'rating').fillna(0)\n",
    "user_index = train.index.tolist()\n",
    "movie_index = train.columns.tolist()\n",
    "print(train.shape)\n",
    "train.head()"
   ]
  },
  {
   "cell_type": "code",
   "execution_count": null,
   "metadata": {},
   "outputs": [],
   "source": [
    "train = csr_matrix(train.values)\n",
    "train"
   ]
  },
  {
   "cell_type": "code",
   "execution_count": null,
   "metadata": {},
   "outputs": [],
   "source": [
    "U, sigma, Vt = svds(train, k=100) # k is the number of factors\n",
    "sigma = np.diag(sigma)"
   ]
  },
  {
   "cell_type": "code",
   "execution_count": null,
   "metadata": {},
   "outputs": [],
   "source": [
    "predicted_ratings = np.dot(np.dot(U, sigma), Vt) "
   ]
  },
  {
   "cell_type": "code",
   "execution_count": null,
   "metadata": {},
   "outputs": [],
   "source": [
    "predicted_ratings = pd.DataFrame(predicted_ratings, index=user_index, columns=movie_index)\n",
    "predicted_ratings = predicted_ratings.astype('int')\n",
    "predicted_ratings.head(4)"
   ]
  },
  {
   "cell_type": "code",
   "execution_count": 19,
   "metadata": {},
   "outputs": [
    {
     "data": {
      "text/html": [
       "<div>\n",
       "<style scoped>\n",
       "    .dataframe tbody tr th:only-of-type {\n",
       "        vertical-align: middle;\n",
       "    }\n",
       "\n",
       "    .dataframe tbody tr th {\n",
       "        vertical-align: top;\n",
       "    }\n",
       "\n",
       "    .dataframe thead th {\n",
       "        text-align: right;\n",
       "    }\n",
       "</style>\n",
       "<table border=\"1\" class=\"dataframe\">\n",
       "  <thead>\n",
       "    <tr style=\"text-align: right;\">\n",
       "      <th></th>\n",
       "      <th>0</th>\n",
       "      <th>1</th>\n",
       "      <th>2</th>\n",
       "      <th>3</th>\n",
       "      <th>4</th>\n",
       "      <th>5</th>\n",
       "      <th>6</th>\n",
       "      <th>7</th>\n",
       "      <th>8</th>\n",
       "      <th>9</th>\n",
       "      <th>...</th>\n",
       "      <th>17090</th>\n",
       "      <th>17175</th>\n",
       "      <th>17460</th>\n",
       "      <th>17511</th>\n",
       "      <th>17696</th>\n",
       "      <th>18238</th>\n",
       "      <th>18480</th>\n",
       "      <th>20845</th>\n",
       "      <th>21676</th>\n",
       "      <th>22833</th>\n",
       "    </tr>\n",
       "  </thead>\n",
       "  <tbody>\n",
       "    <tr>\n",
       "      <th>3</th>\n",
       "      <td>0</td>\n",
       "      <td>0</td>\n",
       "      <td>0</td>\n",
       "      <td>0</td>\n",
       "      <td>0</td>\n",
       "      <td>0</td>\n",
       "      <td>0</td>\n",
       "      <td>0</td>\n",
       "      <td>0</td>\n",
       "      <td>0</td>\n",
       "      <td>...</td>\n",
       "      <td>0</td>\n",
       "      <td>0</td>\n",
       "      <td>0</td>\n",
       "      <td>0</td>\n",
       "      <td>0</td>\n",
       "      <td>0</td>\n",
       "      <td>0</td>\n",
       "      <td>0</td>\n",
       "      <td>0</td>\n",
       "      <td>0</td>\n",
       "    </tr>\n",
       "    <tr>\n",
       "      <th>11</th>\n",
       "      <td>0</td>\n",
       "      <td>0</td>\n",
       "      <td>0</td>\n",
       "      <td>0</td>\n",
       "      <td>0</td>\n",
       "      <td>0</td>\n",
       "      <td>0</td>\n",
       "      <td>0</td>\n",
       "      <td>0</td>\n",
       "      <td>0</td>\n",
       "      <td>...</td>\n",
       "      <td>0</td>\n",
       "      <td>0</td>\n",
       "      <td>0</td>\n",
       "      <td>0</td>\n",
       "      <td>0</td>\n",
       "      <td>0</td>\n",
       "      <td>0</td>\n",
       "      <td>0</td>\n",
       "      <td>0</td>\n",
       "      <td>0</td>\n",
       "    </tr>\n",
       "    <tr>\n",
       "      <th>14</th>\n",
       "      <td>0</td>\n",
       "      <td>0</td>\n",
       "      <td>0</td>\n",
       "      <td>0</td>\n",
       "      <td>0</td>\n",
       "      <td>0</td>\n",
       "      <td>0</td>\n",
       "      <td>0</td>\n",
       "      <td>0</td>\n",
       "      <td>0</td>\n",
       "      <td>...</td>\n",
       "      <td>0</td>\n",
       "      <td>0</td>\n",
       "      <td>0</td>\n",
       "      <td>0</td>\n",
       "      <td>0</td>\n",
       "      <td>0</td>\n",
       "      <td>0</td>\n",
       "      <td>0</td>\n",
       "      <td>0</td>\n",
       "      <td>0</td>\n",
       "    </tr>\n",
       "  </tbody>\n",
       "</table>\n",
       "<p>3 rows × 6969 columns</p>\n",
       "</div>"
      ],
      "text/plain": [
       "    0      1      2      3      4      5      6      7      8      9      \\\n",
       "3       0      0      0      0      0      0      0      0      0      0   \n",
       "11      0      0      0      0      0      0      0      0      0      0   \n",
       "14      0      0      0      0      0      0      0      0      0      0   \n",
       "\n",
       "    ...    17090  17175  17460  17511  17696  18238  18480  20845  21676  \\\n",
       "3   ...        0      0      0      0      0      0      0      0      0   \n",
       "11  ...        0      0      0      0      0      0      0      0      0   \n",
       "14  ...        0      0      0      0      0      0      0      0      0   \n",
       "\n",
       "    22833  \n",
       "3       0  \n",
       "11      0  \n",
       "14      0  \n",
       "\n",
       "[3 rows x 6969 columns]"
      ]
     },
     "execution_count": 19,
     "metadata": {},
     "output_type": "execute_result"
    }
   ],
   "source": [
    "#predicted_ratings.to_pickle(\"../data/collaborative_item_to_user_model.pkl\")\n",
    "predicted_ratings = pd.read_pickle(\"../data/collaborative_item_to_user_model.pkl\")\n",
    "predicted_ratings.head(3)"
   ]
  },
  {
   "cell_type": "code",
   "execution_count": 20,
   "metadata": {},
   "outputs": [
    {
     "data": {
      "text/html": [
       "<div>\n",
       "<style scoped>\n",
       "    .dataframe tbody tr th:only-of-type {\n",
       "        vertical-align: middle;\n",
       "    }\n",
       "\n",
       "    .dataframe tbody tr th {\n",
       "        vertical-align: top;\n",
       "    }\n",
       "\n",
       "    .dataframe thead th {\n",
       "        text-align: right;\n",
       "    }\n",
       "</style>\n",
       "<table border=\"1\" class=\"dataframe\">\n",
       "  <thead>\n",
       "    <tr style=\"text-align: right;\">\n",
       "      <th></th>\n",
       "      <th>title</th>\n",
       "      <th>genres</th>\n",
       "      <th>ratings_count</th>\n",
       "      <th>avg_rating</th>\n",
       "    </tr>\n",
       "    <tr>\n",
       "      <th>movieId</th>\n",
       "      <th></th>\n",
       "      <th></th>\n",
       "      <th></th>\n",
       "      <th></th>\n",
       "    </tr>\n",
       "  </thead>\n",
       "  <tbody>\n",
       "    <tr>\n",
       "      <th>0</th>\n",
       "      <td>Jumanji (1995)</td>\n",
       "      <td>Adventure|Children|Fantasy</td>\n",
       "      <td>22243</td>\n",
       "      <td>3.211977</td>\n",
       "    </tr>\n",
       "    <tr>\n",
       "      <th>1</th>\n",
       "      <td>City of Lost Children, The (Cité des enfants p...</td>\n",
       "      <td>Adventure|Drama|Fantasy|Mystery|Sci-Fi</td>\n",
       "      <td>8520</td>\n",
       "      <td>3.952230</td>\n",
       "    </tr>\n",
       "    <tr>\n",
       "      <th>2</th>\n",
       "      <td>Twelve Monkeys (a.k.a. 12 Monkeys) (1995)</td>\n",
       "      <td>Mystery|Sci-Fi|Thriller</td>\n",
       "      <td>44980</td>\n",
       "      <td>3.898055</td>\n",
       "    </tr>\n",
       "    <tr>\n",
       "      <th>3</th>\n",
       "      <td>Seven (a.k.a. Se7en) (1995)</td>\n",
       "      <td>Mystery|Thriller</td>\n",
       "      <td>43249</td>\n",
       "      <td>4.053493</td>\n",
       "    </tr>\n",
       "    <tr>\n",
       "      <th>4</th>\n",
       "      <td>Usual Suspects, The (1995)</td>\n",
       "      <td>Crime|Mystery|Thriller</td>\n",
       "      <td>47006</td>\n",
       "      <td>4.334372</td>\n",
       "    </tr>\n",
       "  </tbody>\n",
       "</table>\n",
       "</div>"
      ],
      "text/plain": [
       "                                                     title  \\\n",
       "movieId                                                      \n",
       "0                                           Jumanji (1995)   \n",
       "1        City of Lost Children, The (Cité des enfants p...   \n",
       "2                Twelve Monkeys (a.k.a. 12 Monkeys) (1995)   \n",
       "3                              Seven (a.k.a. Se7en) (1995)   \n",
       "4                               Usual Suspects, The (1995)   \n",
       "\n",
       "                                         genres  ratings_count  avg_rating  \n",
       "movieId                                                                     \n",
       "0                    Adventure|Children|Fantasy          22243    3.211977  \n",
       "1        Adventure|Drama|Fantasy|Mystery|Sci-Fi           8520    3.952230  \n",
       "2                       Mystery|Sci-Fi|Thriller          44980    3.898055  \n",
       "3                              Mystery|Thriller          43249    4.053493  \n",
       "4                        Crime|Mystery|Thriller          47006    4.334372  "
      ]
     },
     "execution_count": 20,
     "metadata": {},
     "output_type": "execute_result"
    }
   ],
   "source": [
    "demographics = pd.read_csv('../data/movie_demographics.csv')\n",
    "demographics.set_index(\"movieId\", inplace=True)\n",
    "demographics.head()"
   ]
  },
  {
   "cell_type": "code",
   "execution_count": 21,
   "metadata": {},
   "outputs": [],
   "source": [
    "#get recommended movies for user 3\n",
    "\n",
    "def get_users_predictions(user_id, n, model):\n",
    "    recommended_items = pd.DataFrame(model.loc[user_id])\n",
    "    recommended_items.columns = [\"predicted_rating\"]\n",
    "    recommended_items = recommended_items.sort_values('predicted_rating', ascending=False)\n",
    "    recommended_items = recommended_items.head(n)\n",
    "\n",
    "    recommended_items = pd.merge(demographics, recommended_items, left_index=True, right_index=True)\n",
    "    recommended_items.sort_values('predicted_rating', ascending=False, inplace=True)\n",
    "    recommended_items.reset_index(inplace=True)\n",
    "    recommended_items = recommended_items.rename(index=str, columns={\"index\": \"item_id\"})\n",
    "    recommended_items = recommended_items.query('predicted_rating != 0')\n",
    "    return recommended_items"
   ]
  },
  {
   "cell_type": "code",
   "execution_count": 22,
   "metadata": {},
   "outputs": [
    {
     "data": {
      "text/html": [
       "<div>\n",
       "<style scoped>\n",
       "    .dataframe tbody tr th:only-of-type {\n",
       "        vertical-align: middle;\n",
       "    }\n",
       "\n",
       "    .dataframe tbody tr th {\n",
       "        vertical-align: top;\n",
       "    }\n",
       "\n",
       "    .dataframe thead th {\n",
       "        text-align: right;\n",
       "    }\n",
       "</style>\n",
       "<table border=\"1\" class=\"dataframe\">\n",
       "  <thead>\n",
       "    <tr style=\"text-align: right;\">\n",
       "      <th></th>\n",
       "      <th>item_id</th>\n",
       "      <th>title</th>\n",
       "      <th>genres</th>\n",
       "      <th>ratings_count</th>\n",
       "      <th>avg_rating</th>\n",
       "      <th>predicted_rating</th>\n",
       "    </tr>\n",
       "  </thead>\n",
       "  <tbody>\n",
       "    <tr>\n",
       "      <th>0</th>\n",
       "      <td>142</td>\n",
       "      <td>Lord of the Rings: The Two Towers, The (2002)</td>\n",
       "      <td>Adventure|Fantasy</td>\n",
       "      <td>33947</td>\n",
       "      <td>4.107521</td>\n",
       "      <td>4</td>\n",
       "    </tr>\n",
       "  </tbody>\n",
       "</table>\n",
       "</div>"
      ],
      "text/plain": [
       "   item_id                                          title             genres  \\\n",
       "0      142  Lord of the Rings: The Two Towers, The (2002)  Adventure|Fantasy   \n",
       "\n",
       "   ratings_count  avg_rating  predicted_rating  \n",
       "0          33947    4.107521                 4  "
      ]
     },
     "execution_count": 22,
     "metadata": {},
     "output_type": "execute_result"
    }
   ],
   "source": [
    "get_users_predictions(user_id=969, n=20, model=predicted_ratings)"
   ]
  },
  {
   "cell_type": "code",
   "execution_count": 23,
   "metadata": {},
   "outputs": [
    {
     "data": {
      "text/html": [
       "<div>\n",
       "<style scoped>\n",
       "    .dataframe tbody tr th:only-of-type {\n",
       "        vertical-align: middle;\n",
       "    }\n",
       "\n",
       "    .dataframe tbody tr th {\n",
       "        vertical-align: top;\n",
       "    }\n",
       "\n",
       "    .dataframe thead th {\n",
       "        text-align: right;\n",
       "    }\n",
       "</style>\n",
       "<table border=\"1\" class=\"dataframe\">\n",
       "  <thead>\n",
       "    <tr style=\"text-align: right;\">\n",
       "      <th></th>\n",
       "      <th>movieId</th>\n",
       "      <th>title</th>\n",
       "      <th>genres</th>\n",
       "      <th>userId</th>\n",
       "      <th>rating</th>\n",
       "      <th>timestamp</th>\n",
       "    </tr>\n",
       "  </thead>\n",
       "  <tbody>\n",
       "    <tr>\n",
       "      <th>19627730</th>\n",
       "      <td>8979</td>\n",
       "      <td>I Saw the Devil (Akmareul boatda) (2010)</td>\n",
       "      <td>Crime|Thriller</td>\n",
       "      <td>969</td>\n",
       "      <td>3.5</td>\n",
       "      <td>1426826225</td>\n",
       "    </tr>\n",
       "    <tr>\n",
       "      <th>19288484</th>\n",
       "      <td>1814</td>\n",
       "      <td>Up (2009)</td>\n",
       "      <td>Adventure|Animation|Children|Drama</td>\n",
       "      <td>969</td>\n",
       "      <td>3.5</td>\n",
       "      <td>1426747454</td>\n",
       "    </tr>\n",
       "  </tbody>\n",
       "</table>\n",
       "</div>"
      ],
      "text/plain": [
       "          movieId                                     title  \\\n",
       "19627730     8979  I Saw the Devil (Akmareul boatda) (2010)   \n",
       "19288484     1814                                 Up (2009)   \n",
       "\n",
       "                                      genres  userId  rating   timestamp  \n",
       "19627730                      Crime|Thriller     969     3.5  1426826225  \n",
       "19288484  Adventure|Animation|Children|Drama     969     3.5  1426747454  "
      ]
     },
     "execution_count": 23,
     "metadata": {},
     "output_type": "execute_result"
    }
   ],
   "source": [
    "test.query('userId == 969')"
   ]
  },
  {
   "cell_type": "code",
   "execution_count": 25,
   "metadata": {},
   "outputs": [
    {
     "name": "stdout",
     "output_type": "stream",
     "text": [
      "Requirement already satisfied: ml_metrics in /home/paperspace/miniconda3/lib/python3.6/site-packages (0.1.4)\n",
      "Requirement already satisfied: pandas in /home/paperspace/miniconda3/lib/python3.6/site-packages (from ml_metrics) (0.23.4)\n",
      "Requirement already satisfied: numpy in /home/paperspace/miniconda3/lib/python3.6/site-packages (from ml_metrics) (1.15.1)\n",
      "Requirement already satisfied: pytz>=2011k in /home/paperspace/miniconda3/lib/python3.6/site-packages (from pandas->ml_metrics) (2018.5)\n",
      "Requirement already satisfied: python-dateutil>=2.5.0 in /home/paperspace/miniconda3/lib/python3.6/site-packages (from pandas->ml_metrics) (2.7.3)\n",
      "Requirement already satisfied: six>=1.5 in /home/paperspace/miniconda3/lib/python3.6/site-packages (from python-dateutil>=2.5.0->pandas->ml_metrics) (1.11.0)\n",
      "\u001b[33mYou are using pip version 10.0.1, however version 18.0 is available.\n",
      "You should consider upgrading via the 'pip install --upgrade pip' command.\u001b[0m\n"
     ]
    }
   ],
   "source": [
    "!pip install ml_metrics"
   ]
  },
  {
   "cell_type": "code",
   "execution_count": 24,
   "metadata": {},
   "outputs": [
    {
     "ename": "ModuleNotFoundError",
     "evalue": "No module named 'ml_metrics'",
     "output_type": "error",
     "traceback": [
      "\u001b[0;31m---------------------------------------------------------------------------\u001b[0m",
      "\u001b[0;31mModuleNotFoundError\u001b[0m                       Traceback (most recent call last)",
      "\u001b[0;32m<ipython-input-24-934f9d8f3593>\u001b[0m in \u001b[0;36m<module>\u001b[0;34m()\u001b[0m\n\u001b[0;32m----> 1\u001b[0;31m \u001b[0;32mimport\u001b[0m \u001b[0mml_metrics\u001b[0m \u001b[0;32mas\u001b[0m \u001b[0mmetrics\u001b[0m\u001b[0;34m\u001b[0m\u001b[0m\n\u001b[0m",
      "\u001b[0;31mModuleNotFoundError\u001b[0m: No module named 'ml_metrics'"
     ]
    }
   ],
   "source": [
    "import ml_metrics as metrics"
   ]
  },
  {
   "cell_type": "code",
   "execution_count": null,
   "metadata": {},
   "outputs": [],
   "source": [
    "test.userId.tolist()"
   ]
  },
  {
   "cell_type": "code",
   "execution_count": null,
   "metadata": {},
   "outputs": [],
   "source": [
    "#make mar@k and map@k plots"
   ]
  },
  {
   "cell_type": "code",
   "execution_count": null,
   "metadata": {},
   "outputs": [],
   "source": []
  },
  {
   "cell_type": "code",
   "execution_count": null,
   "metadata": {},
   "outputs": [],
   "source": []
  },
  {
   "cell_type": "code",
   "execution_count": null,
   "metadata": {},
   "outputs": [],
   "source": []
  },
  {
   "cell_type": "code",
   "execution_count": null,
   "metadata": {},
   "outputs": [],
   "source": [
    "#Find a popular movie and look at precision and recall\n",
    "#Find a niche movie and look at precision and recall\n",
    "\n",
    "#Find average precision and recall for the head\n",
    "#Find average precision and recall for the tail. \n",
    "\n",
    "#make mar@k and map@k plots"
   ]
  }
 ],
 "metadata": {
  "kernelspec": {
   "display_name": "ana3",
   "language": "python",
   "name": "ana3"
  },
  "language_info": {
   "codemirror_mode": {
    "name": "ipython",
    "version": 3
   },
   "file_extension": ".py",
   "mimetype": "text/x-python",
   "name": "python",
   "nbconvert_exporter": "python",
   "pygments_lexer": "ipython3",
   "version": "3.6.5"
  },
  "toc": {
   "colors": {
    "hover_highlight": "#DAA520",
    "navigate_num": "#000000",
    "navigate_text": "#333333",
    "running_highlight": "#FF0000",
    "selected_highlight": "#FFD700",
    "sidebar_border": "#EEEEEE",
    "wrapper_background": "#FFFFFF"
   },
   "moveMenuLeft": true,
   "nav_menu": {
    "height": "11px",
    "width": "252px"
   },
   "navigate_menu": true,
   "number_sections": true,
   "sideBar": true,
   "skip_h1_title": false,
   "threshold": 4,
   "toc_cell": false,
   "toc_section_display": "block",
   "toc_window_display": false,
   "widenNotebook": false
  }
 },
 "nbformat": 4,
 "nbformat_minor": 2
}
